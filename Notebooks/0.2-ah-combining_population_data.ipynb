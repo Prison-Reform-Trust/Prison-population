{
 "cells": [
  {
   "cell_type": "markdown",
   "metadata": {},
   "source": [
    "# Prison population of England and Wales"
   ]
  },
  {
   "cell_type": "markdown",
   "metadata": {},
   "source": [
    "## Extracting and combining population data from downloaded Gov.uk files"
   ]
  },
  {
   "cell_type": "code",
   "execution_count": null,
   "metadata": {},
   "outputs": [],
   "source": [
    "import glob\n",
    "import pandas as pd\n",
    "import re\n",
    "import numpy as np\n",
    "from datetime import datetime"
   ]
  },
  {
   "cell_type": "code",
   "execution_count": null,
   "metadata": {},
   "outputs": [],
   "source": [
    "df = pd.read_excel(\"data/raw/2024/population_19_July_2024.ods\", engine=\"odf\")\n",
    "df"
   ]
  },
  {
   "cell_type": "code",
   "execution_count": null,
   "metadata": {},
   "outputs": [],
   "source": [
    "df = (\n",
    "    pd.read_excel(\"data/raw/2024/population_19_July_2024.ods\", \n",
    "                nrows=8, \n",
    "                skiprows=[1, 2, 3, 4],\n",
    "                usecols=\"C,F,H\",\n",
    "                engine=\"odf\")\n",
    "    .dropna(how=\"all\") # drop rows that are all NA\n",
    ")\n",
    "df"
   ]
  },
  {
   "cell_type": "code",
   "execution_count": null,
   "metadata": {},
   "outputs": [],
   "source": [
    "df.iloc[:, -1]"
   ]
  },
  {
   "cell_type": "code",
   "execution_count": null,
   "metadata": {},
   "outputs": [],
   "source": [
    "df['date'] = df.columns[-1].date()\n",
    "df"
   ]
  },
  {
   "cell_type": "code",
   "execution_count": null,
   "metadata": {},
   "outputs": [],
   "source": [
    "df.drop(columns=df.columns[-2], inplace=True)"
   ]
  },
  {
   "cell_type": "code",
   "execution_count": null,
   "metadata": {},
   "outputs": [],
   "source": [
    "df"
   ]
  },
  {
   "cell_type": "code",
   "execution_count": null,
   "metadata": {},
   "outputs": [],
   "source": [
    "df.columns = [\"type\", \"population\", \"date\"]\n",
    "df"
   ]
  },
  {
   "cell_type": "code",
   "execution_count": null,
   "metadata": {},
   "outputs": [],
   "source": [
    "df[\"population\"] = df[\"population\"].astype(int)\n",
    "df"
   ]
  },
  {
   "cell_type": "code",
   "execution_count": null,
   "metadata": {},
   "outputs": [],
   "source": [
    "df.replace({\n",
    "    \"Population\": \"total\",\n",
    "    \"Population in male estate\": \"male\",\n",
    "    \"Population in female estate\": \"female\",\n",
    "    \"Useable Operational Capacity\": \"operational capacity\",\n",
    "    \"Home Detention Curfew caseload\": \"HDC\"\n",
    "    }, \n",
    "    inplace=True)\n",
    "\n",
    "df"
   ]
  },
  {
   "cell_type": "markdown",
   "metadata": {},
   "source": [
    "### Consolidating code up to this point"
   ]
  },
  {
   "cell_type": "code",
   "execution_count": null,
   "metadata": {},
   "outputs": [],
   "source": [
    "df = (\n",
    "    pd.read_excel(\n",
    "        \"data/raw/2024/population_19_July_2024.ods\",\n",
    "        nrows=8,\n",
    "        skiprows=[1, 2, 3, 4],\n",
    "        usecols=\"C,F,H\",\n",
    "        engine=\"odf\"\n",
    "    )\n",
    "    .dropna(how=\"all\")  # Drop rows that are all NA\n",
    "    .assign(date=lambda x: x.columns[-1].date())  # Extract date from last column name\n",
    "    .pipe(lambda x: x.drop(columns=[x.columns[-2]]))  # Drop second-to-last column correctly\n",
    "    .set_axis([\"type\", \"population\", \"date\"], axis=1)  # Rename columns\n",
    "    .astype({\"population\": int})  # Convert population to integer\n",
    "    .replace({\n",
    "        \"Population\": \"total\",\n",
    "        \"Population in male estate\": \"male\",\n",
    "        \"Population in female estate\": \"female\",\n",
    "        \"Useable Operational Capacity\": \"operational capacity\",\n",
    "        \"Home Detention Curfew caseload\": \"HDC\"\n",
    "    })\n",
    ")\n",
    "df"
   ]
  },
  {
   "cell_type": "markdown",
   "metadata": {},
   "source": [
    "## Applying processing to a folder of data"
   ]
  },
  {
   "cell_type": "code",
   "execution_count": null,
   "metadata": {},
   "outputs": [],
   "source": [
    "import pandas as pd\n",
    "import glob"
   ]
  },
  {
   "cell_type": "code",
   "execution_count": null,
   "metadata": {},
   "outputs": [],
   "source": [
    "# Define the folder path and file pattern\n",
    "folder_path = \"data/raw/2024/\"\n",
    "file_pattern = \"*.ods\"\n",
    "\n",
    "# Get all matching file paths\n",
    "file_paths = glob.glob(f\"{folder_path}/{file_pattern}\")\n",
    "\n",
    "# Define a function to process a single file\n",
    "def process_file(file_path):\n",
    "    try:\n",
    "        df = pd.read_excel(\n",
    "            file_path,\n",
    "            nrows=8,\n",
    "            skiprows=[1, 2, 3, 4],\n",
    "            usecols=\"C,F,H\",\n",
    "            engine=\"odf\"\n",
    "        ).dropna(how=\"all\")  # Drop rows that are all NA\n",
    "\n",
    "        # Debugging: Print column names before extracting the date\n",
    "        print(f\"Processing {file_path}, Columns: {df.columns.tolist()}\")\n",
    "\n",
    "        # Ensure the last column is a datetime-like value\n",
    "        last_col = df.columns[-1]\n",
    "        if not isinstance(last_col, pd.Timestamp):  # Check if it's a timestamp\n",
    "            raise ValueError(f\"Unexpected column format in {file_path}: {last_col}\")\n",
    "\n",
    "        return (\n",
    "            df.assign(date=last_col.date())  # Extract date from last column name\n",
    "            .pipe(lambda x: x.drop(columns=[x.columns[-2]]))  # Drop second-to-last column\n",
    "            .set_axis([\"type\", \"population\", \"date\"], axis=1)  # Rename columns\n",
    "            .astype({\"population\": int})  # Convert population to integer\n",
    "            .replace({\n",
    "                \"Population\": \"total\",\n",
    "                \"Population in male estate\": \"male\",\n",
    "                \"Population in female estate\": \"female\",\n",
    "                \"Useable Operational Capacity\": \"operational capacity\",\n",
    "                \"Home Detention Curfew caseload\": \"HDC\"\n",
    "            })\n",
    "        )\n",
    "    except Exception as e:\n",
    "        print(f\"Error processing {file_path}: {e}\")\n",
    "        return None  # Skip problematic files\n",
    "\n",
    "# Process all files and concatenate into one DataFrame\n",
    "df_all = pd.concat([process_file(file) for file in file_paths], ignore_index=True)\n",
    "\n",
    "# Display the final DataFrame\n",
    "df_all\n"
   ]
  },
  {
   "cell_type": "code",
   "execution_count": null,
   "metadata": {},
   "outputs": [],
   "source": [
    "sorted(df_all['date'].unique())"
   ]
  },
  {
   "cell_type": "code",
   "execution_count": null,
   "metadata": {},
   "outputs": [],
   "source": [
    "len(df_all['date'].unique())"
   ]
  },
  {
   "cell_type": "markdown",
   "metadata": {},
   "source": [
    "Right, I have an issue with the format of the spreadsheets changing. So I now need to investigate for differences that can be used to differentiate the type of file being processed, and adjust the processing that it goes through."
   ]
  },
  {
   "cell_type": "markdown",
   "metadata": {},
   "source": [
    "## Differentiating historic and new file formatting"
   ]
  },
  {
   "cell_type": "code",
   "execution_count": null,
   "metadata": {},
   "outputs": [],
   "source": [
    "df_new = (\n",
    "    pd.read_excel(\"data/raw/2024/prison-pop-16-dec-2024.ods\", \n",
    "                # nrows=8, \n",
    "                # skiprows=[1, 2, 3, 4],\n",
    "                # usecols=\"C,F,H\",\n",
    "                engine=\"odf\")\n",
    "    .dropna(how=\"all\") # drop rows that are all NA\n",
    ")\n",
    "df_new"
   ]
  },
  {
   "cell_type": "code",
   "execution_count": null,
   "metadata": {},
   "outputs": [],
   "source": [
    "df_old = (\n",
    "    pd.read_excel(\"data/raw/2024/population_19_July_2024.ods\", \n",
    "                # nrows=8, \n",
    "                # skiprows=[1, 2, 3, 4],\n",
    "                # usecols=\"C,F,H\",\n",
    "                engine=\"odf\")\n",
    "    .dropna(how=\"all\") # drop rows that are all NA\n",
    ")\n",
    "df_old"
   ]
  },
  {
   "cell_type": "code",
   "execution_count": null,
   "metadata": {},
   "outputs": [],
   "source": [
    "df_new.shape"
   ]
  },
  {
   "cell_type": "code",
   "execution_count": null,
   "metadata": {},
   "outputs": [],
   "source": [
    "df_old.shape"
   ]
  },
  {
   "cell_type": "code",
   "execution_count": null,
   "metadata": {},
   "outputs": [],
   "source": [
    "import pandas as pd\n",
    "import glob\n",
    "from collections import Counter\n",
    "\n",
    "folder_path = \"data/raw/2024/\"  # Adjust this to your actual folder\n",
    "file_paths = glob.glob(f\"{folder_path}/*.ods\")  # Adjust extension if needed\n",
    "\n",
    "shape_counts = Counter()\n",
    "\n",
    "for file in file_paths:\n",
    "    try:\n",
    "        df = pd.read_excel(file, engine=\"odf\").dropna(how=\"all\")  # Read full file\n",
    "        shape_counts[df.shape] += 1\n",
    "    except Exception as e:\n",
    "        print(f\"Error reading {file}: {e}\")\n",
    "\n",
    "# Print results\n",
    "print(\"Unique file shapes and their counts:\")\n",
    "for shape, count in shape_counts.items():\n",
    "    print(f\"Shape {shape}: {count} files\")\n"
   ]
  },
  {
   "cell_type": "markdown",
   "metadata": {},
   "source": [
    "Great, so I now know that — within this folder at least — there are only two unique dataframe shapes. I can now use this to difference to identify how the file formats should be processed. "
   ]
  },
  {
   "cell_type": "markdown",
   "metadata": {},
   "source": [
    "### Testing"
   ]
  },
  {
   "cell_type": "markdown",
   "metadata": {},
   "source": [
    "#### New format\n",
    "Checking the new format to determine which bits I need."
   ]
  },
  {
   "cell_type": "code",
   "execution_count": null,
   "metadata": {},
   "outputs": [],
   "source": [
    "df_new = pd.read_excel(\"data/raw/2024/prison-pop-16-dec-2024.ods\", engine=\"odf\")\n",
    "df_new"
   ]
  },
  {
   "cell_type": "markdown",
   "metadata": {},
   "source": [
    "There doesn't appear to be any timestamp values in here, unlike the old format. So I'm going to need to use some regex to extract the date from the correct row and column.\n",
    "\n",
    "Let's isolate all the bits that I need from the spreadsheet first and then move on to extracting the date."
   ]
  },
  {
   "cell_type": "code",
   "execution_count": null,
   "metadata": {},
   "outputs": [],
   "source": [
    "df_new = (\n",
    "    pd.read_excel(\"data/raw/2024/prison-pop-16-dec-2024.ods\", engine=\"odf\")\n",
    "    .dropna(how=\"all\") # drop rows that are all NA\n",
    ")\n",
    "df_new.iloc[list(range(6)), :]"
   ]
  },
  {
   "cell_type": "code",
   "execution_count": null,
   "metadata": {},
   "outputs": [],
   "source": [
    "df_new.iloc[0, 2]"
   ]
  },
  {
   "cell_type": "markdown",
   "metadata": {},
   "source": [
    "##### Extracting date"
   ]
  },
  {
   "cell_type": "code",
   "execution_count": null,
   "metadata": {},
   "outputs": [],
   "source": [
    "import re\n",
    "from datetime import datetime"
   ]
  },
  {
   "cell_type": "code",
   "execution_count": null,
   "metadata": {},
   "outputs": [],
   "source": [
    "def extract_date_from_string(date_string):\n",
    "    \"\"\"Extracts a date from a string using regex and converts it to a datetime object.\"\"\"\n",
    "    match = re.search(r\"(\\d{1,2} [A-Za-z]+ \\d{4})\", date_string)  # Looks for '19 July 2024'\n",
    "    if match:\n",
    "        return datetime.strptime(match.group(1), \"%d %B %Y\").date()\n",
    "    return None"
   ]
  },
  {
   "cell_type": "code",
   "execution_count": null,
   "metadata": {},
   "outputs": [],
   "source": [
    "date_value = extract_date_from_string(df_new.iloc[0, 2])  # Extract date from cell\n",
    "date_value"
   ]
  },
  {
   "cell_type": "markdown",
   "metadata": {},
   "source": [
    "Great, that's worked as expected. Let's see if this works across all files."
   ]
  },
  {
   "cell_type": "code",
   "execution_count": null,
   "metadata": {},
   "outputs": [],
   "source": [
    "# Define the folder path and file pattern\n",
    "folder_path = \"data/raw/2024/\"\n",
    "file_pattern = \"*.ods\"\n",
    "\n",
    "# Get all matching file paths\n",
    "file_paths = glob.glob(f\"{folder_path}/{file_pattern}\")\n",
    "\n",
    "def process_file(file_path):\n",
    "    try:\n",
    "        # Read the file\n",
    "        df = pd.read_excel(file_path, engine=\"odf\").dropna(how=\"all\")\n",
    "\n",
    "        # Determine format based on shape\n",
    "        shape = df.shape\n",
    "        if shape == (18, 8):\n",
    "            format_type = \"historic\"\n",
    "            selected_rows = list(range(7))  # First 7 rows contain relevant data\n",
    "            selected_cols = [2, 5]  # Adjust based on actual needed columns\n",
    "            date_value = extract_date_from_string(df.iloc[0, 2])  # Extract date from cell\n",
    "        elif shape == (25, 9):\n",
    "            format_type = \"new\"\n",
    "            selected_rows = list(range(6))  # First 6 rows contain relevant data\n",
    "            selected_cols = [2, 4, 6, 7, 8]  # Adjust for new format\n",
    "            date_value = extract_date_from_string(df.iloc[0, 2])  # Extract date from cell\n",
    "            if date_value is None:\n",
    "                raise ValueError(f\"Could not extract date from {file_path}\")\n",
    "        else:\n",
    "            raise ValueError(f\"Unexpected format in {file_path}: {shape}\")\n",
    "        \n",
    "        print(f\"Processing {date_value} ({format_type} format)\")\n",
    "    \n",
    "    except Exception as e:\n",
    "        print(f\"Error processing {file_path}: {e}\")\n",
    "        return None  # Skip problematic files"
   ]
  },
  {
   "cell_type": "code",
   "execution_count": null,
   "metadata": {},
   "outputs": [],
   "source": [
    "for file in file_paths:\n",
    "    process_file(file)"
   ]
  },
  {
   "cell_type": "markdown",
   "metadata": {},
   "source": [
    "Extraction of dates is working perfectly by the looks of things."
   ]
  },
  {
   "cell_type": "markdown",
   "metadata": {},
   "source": [
    "##### Cleaning and shaping dataframe\n",
    "Temporarily redefining `process_file` method to test how the new format needs to be processed."
   ]
  },
  {
   "cell_type": "code",
   "execution_count": null,
   "metadata": {},
   "outputs": [],
   "source": [
    "# Define the folder path and file pattern\n",
    "folder_path = \"data/raw/2024/\"\n",
    "file_pattern = \"*.ods\"\n",
    "\n",
    "# Get all matching file paths\n",
    "file_paths = glob.glob(f\"{folder_path}/{file_pattern}\")\n",
    "\n",
    "def extract_date_from_string(date_string):\n",
    "    \"\"\"Extracts a date from a string using regex and converts it to a datetime object.\"\"\"\n",
    "    match = re.search(r\"(\\d{1,2} [A-Za-z]+ \\d{4})\", date_string)  # Looks for '19 July 2024'\n",
    "    if match:\n",
    "        return datetime.strptime(match.group(1), \"%d %B %Y\").date()\n",
    "    return None\n",
    "\n",
    "def process_file(file_path):\n",
    "    try:\n",
    "        # Read the file\n",
    "        df = pd.read_excel(file_path, engine=\"odf\").dropna(how=\"all\")\n",
    "\n",
    "        # Determine format based on shape\n",
    "        shape = df.shape\n",
    "        if shape == (18, 8):\n",
    "            format_type = \"historic\"\n",
    "            selected_rows = list(range(7))  # First 7 rows contain relevant data\n",
    "            selected_cols = [2, 5]  # Adjust based on actual needed columns\n",
    "        elif shape == (25, 9):\n",
    "            format_type = \"new\"\n",
    "            selected_rows = list(range(6))  # First 6 rows contain relevant data\n",
    "            selected_cols = [2, 4, 6, 7, 8]  # Adjust for new format\n",
    "\n",
    "        else:\n",
    "            raise ValueError(f\"Unexpected format in {file_path}: {shape}\")\n",
    "\n",
    "        print(f\"Processing {file_path} as {format_type} format\")\n",
    "\n",
    "        # Extract relevant columns\n",
    "        df = df.iloc[selected_rows, selected_cols]  # Select rows and columns\n",
    "\n",
    "        return (\n",
    "            df\n",
    "            .assign(date=extract_date_from_string(df.iloc[0, 0]))  # Assign extracted date\n",
    "            # .pipe(lambda x: x.drop(columns=[x.columns[-2]]))  # Drop last column before renaming\n",
    "            # .set_axis([\"type\", \"population\", \"date\"], axis=1)\n",
    "            # .astype({\"population\": int})\n",
    "            # .replace({\n",
    "            #     \"Population\": \"total\",\n",
    "            #     \"Population in male estate\": \"male\",\n",
    "            #     \"Population in female estate\": \"female\",\n",
    "            #     \"Useable Operational Capacity\": \"operational capacity\",\n",
    "            #     \"Home Detention Curfew caseload\": \"HDC\"\n",
    "            # })\n",
    "        )\n",
    "\n",
    "    except Exception as e:\n",
    "        print(f\"Error processing {file_path}: {e}\")\n",
    "        return None  # Skip problematic files"
   ]
  },
  {
   "cell_type": "code",
   "execution_count": null,
   "metadata": {},
   "outputs": [],
   "source": [
    "test_new_df = process_file(\"data/raw/2024/prison-pop-16-dec-2024.ods\")\n",
    "test_new_df"
   ]
  },
  {
   "cell_type": "markdown",
   "metadata": {},
   "source": [
    "This seems to be working. Now need to pivot from wide to long, then sort out the column names."
   ]
  },
  {
   "cell_type": "code",
   "execution_count": null,
   "metadata": {},
   "outputs": [],
   "source": [
    "# Select relevant rows (rows 4, 5, 6, 8) and all columns\n",
    "test_new_df.loc[[4, 5, 6, 8], :]"
   ]
  },
  {
   "cell_type": "code",
   "execution_count": null,
   "metadata": {},
   "outputs": [],
   "source": [
    "test_new_df = test_new_df.loc[[4, 5, 6, 8], :].copy()"
   ]
  },
  {
   "cell_type": "code",
   "execution_count": null,
   "metadata": {},
   "outputs": [],
   "source": [
    "test_new_df.columns = [\"type\", \"Total\", \"Adult Male\", \"Female\", \"YCS\", \"date\"]\n",
    "test_new_df"
   ]
  },
  {
   "cell_type": "code",
   "execution_count": null,
   "metadata": {},
   "outputs": [],
   "source": [
    "(test_new_df\n",
    "    .melt(id_vars=[\"date\", \"type\"], var_name=\"group\", value_name=\"value\")\n",
    "    .replace(\n",
    "        {\"type\": {\n",
    "            \"Population\": \"prison\",\n",
    "            \"Useable Operational Capacity\": \"operational_capacity\",\n",
    "            \"Headroom\": \"headroom\",\n",
    "            \"Home Detention Curfew caseload\": \"hdc\"\n",
    "        },\n",
    "        \"group\": {\n",
    "            \"Total\": \"total\",\n",
    "            \"Adult Male\": \"male\",\n",
    "            \"Female\": \"female\",\n",
    "            \"YCS\": \"youth\"\n",
    "        }}\n",
    "    )\n",
    "    .assign(value=lambda df: pd.to_numeric(df[\"value\"], errors=\"coerce\").astype(\"Int64\"))  # Convert value to numeric\n",
    "    .loc[:, [\"date\", \"group\", \"type\", \"value\"]]  # Reorder columns\n",
    ")\n"
   ]
  },
  {
   "cell_type": "code",
   "execution_count": null,
   "metadata": {},
   "outputs": [],
   "source": []
  },
  {
   "cell_type": "markdown",
   "metadata": {},
   "source": [
    "#### Old format\n",
    "Now to double check which bits of the historic format files I need."
   ]
  },
  {
   "cell_type": "code",
   "execution_count": null,
   "metadata": {},
   "outputs": [],
   "source": [
    "test_old_df = process_file(\"data/raw/2024/prison-pop-9-feb-2024.ods\")\n",
    "test_old_df"
   ]
  },
  {
   "cell_type": "code",
   "execution_count": null,
   "metadata": {},
   "outputs": [],
   "source": [
    "# Define the folder path and file pattern\n",
    "folder_path = \"data/raw/2024/\"\n",
    "file_pattern = \"*.ods\"\n",
    "\n",
    "# Get all matching file paths\n",
    "file_paths = glob.glob(f\"{folder_path}/{file_pattern}\")\n",
    "\n",
    "def extract_date_from_string(date_string):\n",
    "    \"\"\"Extracts a date from a string using regex and converts it to a datetime object.\"\"\"\n",
    "    match = re.search(r\"(\\d{1,2} [A-Za-z]+ \\d{4})\", date_string)  # Looks for '19 July 2024'\n",
    "    if match:\n",
    "        return datetime.strptime(match.group(1), \"%d %B %Y\").date()\n",
    "    return None\n",
    "\n",
    "def process_file(file_path):\n",
    "    try:\n",
    "        # Read the file\n",
    "        df = pd.read_excel(file_path, engine=\"odf\").dropna(how=\"all\")\n",
    "\n",
    "        # Determine format based on shape\n",
    "        shape = df.shape\n",
    "        if shape == (18, 8):\n",
    "            format_type = \"historic\"\n",
    "            selected_rows = list(range(7))  # First 7 rows contain relevant data\n",
    "            selected_cols = [2, 5]  # Adjust based on actual needed columns\n",
    "        elif shape == (25, 9):\n",
    "            format_type = \"new\"\n",
    "            selected_rows = list(range(6))  # First 6 rows contain relevant data\n",
    "            selected_cols = [2, 4, 6, 7, 8]  # Adjust for new format\n",
    "            if date_value is None:\n",
    "                raise ValueError(f\"Could not extract date from {file_path}\")\n",
    "        else:\n",
    "            raise ValueError(f\"Unexpected format in {file_path}: {shape}\")\n",
    "\n",
    "        print(f\"Processing {file_path} as {format_type} format\")\n",
    "\n",
    "        # Extract relevant columns\n",
    "        df = df.iloc[selected_rows, selected_cols]  # Select rows and columns\n",
    "\n",
    "        return (\n",
    "            df\n",
    "            .assign(date=extract_date_from_string(df.iloc[0, 0]))  # Assign extracted date\n",
    "            # .pipe(lambda x: x.drop(columns=[x.columns[-2]]))  # Drop last column before renaming\n",
    "            # .set_axis([\"type\", \"population\", \"date\"], axis=1)\n",
    "            # .astype({\"population\": int})\n",
    "            # .replace({\n",
    "            #     \"Population\": \"total\",\n",
    "            #     \"Population in male estate\": \"male\",\n",
    "            #     \"Population in female estate\": \"female\",\n",
    "            #     \"Useable Operational Capacity\": \"operational capacity\",\n",
    "            #     \"Home Detention Curfew caseload\": \"HDC\"\n",
    "            # })\n",
    "        )\n",
    "\n",
    "    except Exception as e:\n",
    "        print(f\"Error processing {file_path}: {e}\")\n",
    "        return None  # Skip problematic files"
   ]
  },
  {
   "cell_type": "code",
   "execution_count": null,
   "metadata": {},
   "outputs": [],
   "source": [
    "import pandas as pd\n",
    "import glob\n",
    "import re\n",
    "from datetime import datetime\n",
    "\n",
    "# Define the folder path and file pattern\n",
    "folder_path = \"data/raw/2024/\"\n",
    "file_pattern = \"*.ods\"\n",
    "\n",
    "# Get all matching file paths\n",
    "file_paths = glob.glob(f\"{folder_path}/{file_pattern}\")\n",
    "\n",
    "def extract_date_from_string(date_string):\n",
    "    \"\"\"Extracts a date from a string using regex and converts it to a datetime object.\"\"\"\n",
    "    match = re.search(r\"(\\d{1,2} [A-Za-z]+ \\d{4})\", date_string)  # Looks for '9 February 2024'\n",
    "    if match:\n",
    "        return datetime.strptime(match.group(1), \"%d %B %Y\").date()\n",
    "    return None\n",
    "\n",
    "def process_historic_file(file_path):\n",
    "    \"\"\"Processes historic format spreadsheets to match new format structure.\"\"\"\n",
    "    \n",
    "    # Read the file\n",
    "    df = pd.read_excel(file_path, engine=\"odf\").dropna(how=\"all\")\n",
    "\n",
    "    format_type = \"historic\"\n",
    "    selected_rows = list(range(7))  # First 7 rows contain relevant data\n",
    "    selected_cols = [2, 5]  # Adjust based on actual needed columns\n",
    "\n",
    "    df = df.iloc[selected_rows, selected_cols]  # Select rows and columns\n",
    "    \n",
    "    # Extract date\n",
    "    date = extract_date_from_string(df.iloc[0, 0])\n",
    "    if date is None:\n",
    "        raise ValueError(f\"Could not extract date from {file_path}\")\n",
    "    \n",
    "    # Select relevant rows and columns\n",
    "    df.columns = [\"type\", \"group_value\"]  # Rename columns for clarity\n",
    "    \n",
    "    # Mapping type values to match new format\n",
    "    type_mapping = {\n",
    "        \"Population\": \"prison\",  # This will map 'Population' to 'prison'\n",
    "        \"Useable Operational Capacity\": \"operational_capacity\",\n",
    "        \"Home Detention Curfew caseload\": \"hdc\"\n",
    "    }\n",
    "    \n",
    "    # Mapping group values to match new format\n",
    "    group_mapping = {\n",
    "        \"Population in male estate\": \"male\",\n",
    "        \"Population in female estate\": \"female\",\n",
    "        \"Population\": \"total\"  # \"Population\" will be assigned 'total'\n",
    "    }\n",
    "    \n",
    "    # Apply mappings (group and type)\n",
    "    df[\"type\"] = df[\"type\"].replace(type_mapping)\n",
    "    df[\"group\"] = df[\"group_value\"].replace(group_mapping)\n",
    "    \n",
    "    # Reassign 'prison' for both male and female estate populations (same type for both)\n",
    "    df.loc[df[\"group_value\"].isin([\"Population in male estate\", \"Population in female estate\"]), \"type\"] = \"prison\"\n",
    "    \n",
    "    # Ensure 'operational_capacity' and 'hdc' get 'total' as their group\n",
    "    df.loc[df[\"type\"].isin([\"operational_capacity\", \"hdc\"]), \"group\"] = \"total\"\n",
    "    \n",
    "    # Assign extracted date and cleanup\n",
    "    df = (\n",
    "        df.assign(date=date)  # Assign extracted date\n",
    "        .rename(columns={\"group_value\": \"value\"})  # Rename column for consistency\n",
    "        .assign(value=lambda x: pd.to_numeric(x[\"value\"], errors=\"coerce\").astype(\"Int64\"))  # Convert values to numeric\n",
    "        .loc[:, [\"date\", \"group\", \"type\", \"value\"]]  # Reorder columns (keep all rows)\n",
    "        .loc[4:]  # Keep rows from index 4 onwards (after dropping unwanted metadata)\n",
    "    )\n",
    "\n",
    "    return df"
   ]
  },
  {
   "cell_type": "code",
   "execution_count": null,
   "metadata": {},
   "outputs": [],
   "source": [
    "# Testing the updated function\n",
    "test_old_df = process_historic_file(\"data/raw/2024/prison-pop-9-feb-2024.ods\")\n",
    "test_old_df"
   ]
  },
  {
   "cell_type": "code",
   "execution_count": null,
   "metadata": {},
   "outputs": [],
   "source": [
    "test_old_df['type'].unique()"
   ]
  },
  {
   "cell_type": "code",
   "execution_count": 9,
   "metadata": {},
   "outputs": [
    {
     "data": {
      "text/html": [
       "<div>\n",
       "<style scoped>\n",
       "    .dataframe tbody tr th:only-of-type {\n",
       "        vertical-align: middle;\n",
       "    }\n",
       "\n",
       "    .dataframe tbody tr th {\n",
       "        vertical-align: top;\n",
       "    }\n",
       "\n",
       "    .dataframe thead th {\n",
       "        text-align: right;\n",
       "    }\n",
       "</style>\n",
       "<table border=\"1\" class=\"dataframe\">\n",
       "  <thead>\n",
       "    <tr style=\"text-align: right;\">\n",
       "      <th></th>\n",
       "      <th>date</th>\n",
       "      <th>group</th>\n",
       "      <th>type</th>\n",
       "      <th>value</th>\n",
       "    </tr>\n",
       "  </thead>\n",
       "  <tbody>\n",
       "    <tr>\n",
       "      <th>4</th>\n",
       "      <td>2024-02-09</td>\n",
       "      <td>total</td>\n",
       "      <td>prison</td>\n",
       "      <td>87982</td>\n",
       "    </tr>\n",
       "    <tr>\n",
       "      <th>5</th>\n",
       "      <td>2024-02-09</td>\n",
       "      <td>male</td>\n",
       "      <td>prison</td>\n",
       "      <td>84359</td>\n",
       "    </tr>\n",
       "    <tr>\n",
       "      <th>6</th>\n",
       "      <td>2024-02-09</td>\n",
       "      <td>female</td>\n",
       "      <td>prison</td>\n",
       "      <td>3623</td>\n",
       "    </tr>\n",
       "    <tr>\n",
       "      <th>8</th>\n",
       "      <td>2024-02-09</td>\n",
       "      <td>total</td>\n",
       "      <td>operational_capacity</td>\n",
       "      <td>89099</td>\n",
       "    </tr>\n",
       "    <tr>\n",
       "      <th>10</th>\n",
       "      <td>2024-02-09</td>\n",
       "      <td>total</td>\n",
       "      <td>hdc</td>\n",
       "      <td>2189</td>\n",
       "    </tr>\n",
       "  </tbody>\n",
       "</table>\n",
       "</div>"
      ],
      "text/plain": [
       "          date   group                  type  value\n",
       "4   2024-02-09   total                prison  87982\n",
       "5   2024-02-09    male                prison  84359\n",
       "6   2024-02-09  female                prison   3623\n",
       "8   2024-02-09   total  operational_capacity  89099\n",
       "10  2024-02-09   total                   hdc   2189"
      ]
     },
     "execution_count": 9,
     "metadata": {},
     "output_type": "execute_result"
    }
   ],
   "source": [
    "import pandas as pd\n",
    "import glob\n",
    "import re\n",
    "from datetime import datetime\n",
    "\n",
    "# Define the folder path and file pattern\n",
    "folder_path = \"data/raw/2024/\"\n",
    "file_pattern = \"*.ods\"\n",
    "\n",
    "# Get all matching file paths\n",
    "file_paths = glob.glob(f\"{folder_path}/{file_pattern}\")\n",
    "\n",
    "def extract_date_from_string(date_string):\n",
    "    \"\"\"Extracts a date from a string using regex and converts it to a datetime object.\"\"\"\n",
    "    match = re.search(r\"(\\d{1,2} [A-Za-z]+ \\d{4})\", date_string)  # Looks for '9 February 2024'\n",
    "    if match:\n",
    "        return datetime.strptime(match.group(1), \"%d %B %Y\").date()\n",
    "    return None\n",
    "\n",
    "def process_historic_file(file_path):\n",
    "    \"\"\"Processes historic format spreadsheets to match new format structure.\"\"\"\n",
    "    \n",
    "    # Read the file\n",
    "    df = pd.read_excel(file_path, engine=\"odf\").dropna(how=\"all\")\n",
    "\n",
    "    # Select relevant rows and columns\n",
    "    selected_rows = list(range(7))  # First 7 rows contain relevant data\n",
    "    selected_cols = [2, 5]  # Adjust based on actual needed columns\n",
    "    df = df.iloc[selected_rows, selected_cols]\n",
    "\n",
    "    # Extract date\n",
    "    date = extract_date_from_string(df.iloc[0, 0])\n",
    "    if date is None:\n",
    "        raise ValueError(f\"Could not extract date from {file_path}\")\n",
    "    \n",
    "    # Rename columns for clarity\n",
    "    df.columns = [\"type\", \"group_value\"]\n",
    "    \n",
    "    # Mapping type values to match new format for other cases\n",
    "    type_mapping = {\n",
    "        \"Population\": \"prison\",  # This will map 'Population' to 'prison'\n",
    "        \"Useable Operational Capacity\": \"operational_capacity\",\n",
    "        \"Home Detention Curfew caseload\": \"hdc\"\n",
    "    }\n",
    "    \n",
    "    # Apply type mapping for other cases\n",
    "    df[\"type\"] = df[\"type\"].replace(type_mapping)\n",
    "\n",
    "    # Apply 'total' to group for 'operational_capacity' and 'hdc'\n",
    "    df.loc[df[\"type\"].isin([\"prison\", \"operational_capacity\", \"hdc\"]), \"group\"] = \"total\"\n",
    "\n",
    "    # Apply transformations:\n",
    "    # 1. If 'type' == \"Population in male estate\", 'group' should be \"male\" and 'type' should be \"prison\"\n",
    "    df.loc[df[\"type\"] == \"Population in male estate\", \"group\"] = \"male\"\n",
    "    df.loc[df[\"type\"] == \"Population in male estate\", \"type\"] = \"prison\"\n",
    "    \n",
    "    # 2. If 'type' == \"Population in female estate\", 'group' should be \"female\" and 'type' should be \"prison\"\n",
    "    df.loc[df[\"type\"] == \"Population in female estate\", \"group\"] = \"female\"\n",
    "    df.loc[df[\"type\"] == \"Population in female estate\", \"type\"] = \"prison\"\n",
    "    \n",
    "    # Assign extracted date and cleanup\n",
    "    df = (\n",
    "        df.assign(date=date)  # Assign extracted date\n",
    "        .rename(columns={\"group_value\": \"value\"})  # Rename column for consistency\n",
    "        .assign(value=lambda x: pd.to_numeric(x[\"value\"], errors=\"coerce\").astype(\"Int64\"))  # Convert values to numeric\n",
    "        .loc[:, [\"date\", \"group\", \"type\", \"value\"]]  # Reorder columns (keep all rows)\n",
    "        .loc[4:]  # Keep rows from index 4 onwards (after dropping unwanted metadata)\n",
    "    )\n",
    "\n",
    "    return df\n",
    "\n",
    "# Testing the updated function\n",
    "test_old_df = process_historic_file(\"data/raw/2024/prison-pop-9-feb-2024.ods\")\n",
    "test_old_df"
   ]
  },
  {
   "cell_type": "markdown",
   "metadata": {},
   "source": [
    "Right, this looks like the correct output now. So let's now consolidate."
   ]
  },
  {
   "cell_type": "markdown",
   "metadata": {},
   "source": [
    "### Defining processing functions for new and old formats"
   ]
  },
  {
   "cell_type": "code",
   "execution_count": null,
   "metadata": {},
   "outputs": [],
   "source": [
    "# Define the folder path and file pattern\n",
    "folder_path = \"data/raw/2024/\"\n",
    "file_pattern = \"*.ods\"\n",
    "\n",
    "# Get all matching file paths\n",
    "file_paths = glob.glob(f\"{folder_path}/{file_pattern}\")"
   ]
  },
  {
   "cell_type": "code",
   "execution_count": 4,
   "metadata": {},
   "outputs": [],
   "source": [
    "def extract_date_from_string(date_string):\n",
    "    \"\"\"Extracts a date from a string using regex and converts it to a datetime object.\"\"\"\n",
    "    match = re.search(r\"(\\d{1,2} [A-Za-z]+ \\d{4})\", date_string)  # Looks for '19 July 2024'\n",
    "    if match:\n",
    "        return datetime.strptime(match.group(1), \"%d %B %Y\").date()\n",
    "    return None"
   ]
  },
  {
   "cell_type": "code",
   "execution_count": 5,
   "metadata": {},
   "outputs": [],
   "source": [
    "def process_historic_file(file_path):\n",
    "    \"\"\"Processes historic format spreadsheets to match new format structure.\"\"\"\n",
    "    try:\n",
    "        # Read the file\n",
    "        df = file_path\n",
    "\n",
    "        # Select relevant rows and columns\n",
    "        selected_rows = list(range(7))  # First 7 rows contain relevant data\n",
    "        selected_cols = [2, 5]  # Adjust based on actual needed columns\n",
    "        df = df.iloc[selected_rows, selected_cols]\n",
    "\n",
    "        # Extract date\n",
    "        date = extract_date_from_string(df.iloc[0, 0])\n",
    "        if date is None:\n",
    "            raise ValueError(f\"Could not extract date from {file_path}\")\n",
    "        \n",
    "        # Rename columns for clarity\n",
    "        df.columns = [\"type\", \"group_value\"]\n",
    "        \n",
    "        # Step 1: Assign 'total' to group for original 'prison' type\n",
    "        df.loc[df[\"type\"] == \"Population\", \"group\"] = \"total\"\n",
    "        df.loc[df[\"type\"] == \"Population\", \"type\"] = \"prison\"\n",
    "\n",
    "        # Step 2: Assign correct group values for male and female estate\n",
    "        df.loc[df[\"type\"] == \"Population in male estate\", \"group\"] = \"male\"\n",
    "        df.loc[df[\"type\"] == \"Population in female estate\", \"group\"] = \"female\"\n",
    "\n",
    "        # Step 3: Change type for male and female estate to 'prison'\n",
    "        df.loc[df[\"type\"].isin([\"Population in male estate\", \"Population in female estate\"]), \"type\"] = \"prison\"\n",
    "        \n",
    "        # Step 4: Map other types to their new format\n",
    "        type_mapping = {\n",
    "            \"Useable Operational Capacity\": \"operational_capacity\",\n",
    "            \"Home Detention Curfew caseload\": \"hdc\"\n",
    "        }\n",
    "        df[\"type\"] = df[\"type\"].replace(type_mapping)\n",
    "\n",
    "        # Step 5: Ensure 'total' is assigned to operational capacity and HDC\n",
    "        df.loc[df[\"type\"].isin([\"operational_capacity\", \"hdc\"]), \"group\"] = \"total\"\n",
    "        \n",
    "        # Assign extracted date and cleanup\n",
    "        df = (\n",
    "            df.assign(date=date)  # Assign extracted date\n",
    "            .rename(columns={\"group_value\": \"value\"})  # Rename column for consistency\n",
    "            .assign(value=lambda x: pd.to_numeric(x[\"value\"], errors=\"coerce\").astype(\"Int64\"))  # Convert values to numeric\n",
    "            .loc[:, [\"date\", \"group\", \"type\", \"value\"]]  # Reorder columns (keep all rows)\n",
    "            .loc[4:]  # Keep rows from index 4 onwards (after dropping unwanted metadata)\n",
    "        )\n",
    "\n",
    "        return df\n",
    "    \n",
    "    except Exception as e:\n",
    "        print(f\"Error processing {file_path}: {e}\")\n",
    "        return None"
   ]
  },
  {
   "cell_type": "code",
   "execution_count": 6,
   "metadata": {},
   "outputs": [
    {
     "data": {
      "text/html": [
       "<div>\n",
       "<style scoped>\n",
       "    .dataframe tbody tr th:only-of-type {\n",
       "        vertical-align: middle;\n",
       "    }\n",
       "\n",
       "    .dataframe tbody tr th {\n",
       "        vertical-align: top;\n",
       "    }\n",
       "\n",
       "    .dataframe thead th {\n",
       "        text-align: right;\n",
       "    }\n",
       "</style>\n",
       "<table border=\"1\" class=\"dataframe\">\n",
       "  <thead>\n",
       "    <tr style=\"text-align: right;\">\n",
       "      <th></th>\n",
       "      <th>date</th>\n",
       "      <th>group</th>\n",
       "      <th>type</th>\n",
       "      <th>value</th>\n",
       "    </tr>\n",
       "  </thead>\n",
       "  <tbody>\n",
       "    <tr>\n",
       "      <th>0</th>\n",
       "      <td>2024-12-16</td>\n",
       "      <td>female</td>\n",
       "      <td>prison</td>\n",
       "      <td>3485</td>\n",
       "    </tr>\n",
       "    <tr>\n",
       "      <th>1</th>\n",
       "      <td>2024-12-16</td>\n",
       "      <td>female</td>\n",
       "      <td>operational_capacity</td>\n",
       "      <td>3853</td>\n",
       "    </tr>\n",
       "    <tr>\n",
       "      <th>2</th>\n",
       "      <td>2024-12-16</td>\n",
       "      <td>female</td>\n",
       "      <td>headroom</td>\n",
       "      <td>368</td>\n",
       "    </tr>\n",
       "    <tr>\n",
       "      <th>3</th>\n",
       "      <td>2024-12-16</td>\n",
       "      <td>male</td>\n",
       "      <td>prison</td>\n",
       "      <td>82114</td>\n",
       "    </tr>\n",
       "    <tr>\n",
       "      <th>4</th>\n",
       "      <td>2024-12-16</td>\n",
       "      <td>male</td>\n",
       "      <td>operational_capacity</td>\n",
       "      <td>84387</td>\n",
       "    </tr>\n",
       "    <tr>\n",
       "      <th>5</th>\n",
       "      <td>2024-12-16</td>\n",
       "      <td>male</td>\n",
       "      <td>headroom</td>\n",
       "      <td>2273</td>\n",
       "    </tr>\n",
       "    <tr>\n",
       "      <th>6</th>\n",
       "      <td>2024-12-16</td>\n",
       "      <td>total</td>\n",
       "      <td>prison</td>\n",
       "      <td>85960</td>\n",
       "    </tr>\n",
       "    <tr>\n",
       "      <th>7</th>\n",
       "      <td>2024-12-16</td>\n",
       "      <td>total</td>\n",
       "      <td>operational_capacity</td>\n",
       "      <td>88692</td>\n",
       "    </tr>\n",
       "    <tr>\n",
       "      <th>8</th>\n",
       "      <td>2024-12-16</td>\n",
       "      <td>total</td>\n",
       "      <td>headroom</td>\n",
       "      <td>2732</td>\n",
       "    </tr>\n",
       "    <tr>\n",
       "      <th>9</th>\n",
       "      <td>2024-12-16</td>\n",
       "      <td>total</td>\n",
       "      <td>hdc</td>\n",
       "      <td>4101</td>\n",
       "    </tr>\n",
       "    <tr>\n",
       "      <th>10</th>\n",
       "      <td>2024-12-16</td>\n",
       "      <td>youth</td>\n",
       "      <td>prison</td>\n",
       "      <td>361</td>\n",
       "    </tr>\n",
       "    <tr>\n",
       "      <th>11</th>\n",
       "      <td>2024-12-16</td>\n",
       "      <td>youth</td>\n",
       "      <td>operational_capacity</td>\n",
       "      <td>452</td>\n",
       "    </tr>\n",
       "    <tr>\n",
       "      <th>12</th>\n",
       "      <td>2024-12-16</td>\n",
       "      <td>youth</td>\n",
       "      <td>headroom</td>\n",
       "      <td>91</td>\n",
       "    </tr>\n",
       "  </tbody>\n",
       "</table>\n",
       "</div>"
      ],
      "text/plain": [
       "          date   group                  type  value\n",
       "0   2024-12-16  female                prison   3485\n",
       "1   2024-12-16  female  operational_capacity   3853\n",
       "2   2024-12-16  female              headroom    368\n",
       "3   2024-12-16    male                prison  82114\n",
       "4   2024-12-16    male  operational_capacity  84387\n",
       "5   2024-12-16    male              headroom   2273\n",
       "6   2024-12-16   total                prison  85960\n",
       "7   2024-12-16   total  operational_capacity  88692\n",
       "8   2024-12-16   total              headroom   2732\n",
       "9   2024-12-16   total                   hdc   4101\n",
       "10  2024-12-16   youth                prison    361\n",
       "11  2024-12-16   youth  operational_capacity    452\n",
       "12  2024-12-16   youth              headroom     91"
      ]
     },
     "execution_count": 6,
     "metadata": {},
     "output_type": "execute_result"
    }
   ],
   "source": [
    "def process_file(file_path):\n",
    "    try:\n",
    "        # Read the file\n",
    "        df = pd.read_excel(file_path, engine=\"odf\").dropna(how=\"all\")\n",
    "\n",
    "        # Determine format based on shape\n",
    "        shape = df.shape\n",
    "        if shape == (18, 8):\n",
    "            format_type = \"historic\"\n",
    "            df = process_historic_file(df)\n",
    "            \n",
    "        elif shape == (25, 9):\n",
    "            format_type = \"new\"\n",
    "\n",
    "            # Select relevant rows and columns\n",
    "            selected_rows = list(range(6))  # First 6 rows contain relevant data\n",
    "            selected_cols = [2, 4, 6, 7, 8]  # Adjust for new format\n",
    "            df = df.iloc[selected_rows, selected_cols]\n",
    "\n",
    "            # Extract date\n",
    "            date = extract_date_from_string(df.iloc[0, 0])\n",
    "            if date is None:\n",
    "                raise ValueError(f\"Could not extract date from {file_path}\")\n",
    "        \n",
    "            df = (\n",
    "                df\n",
    "                .assign(date=extract_date_from_string(df.iloc[0, 0]))  # Assign extracted date\n",
    "                .loc[[4, 5, 6, 8], :]\n",
    "                .rename(columns=dict(zip(df.columns, [\"type\", \"total\", \"male\", \"female\", \"youth\", \"date\"])))\n",
    "                .melt(id_vars=[\"date\", \"type\"], var_name=\"group\", value_name=\"value\")\n",
    "                .replace({\n",
    "                    \"type\": {\n",
    "                        \"Population\": \"prison\",\n",
    "                        \"Useable Operational Capacity\": \"operational_capacity\",\n",
    "                        \"Headroom\": \"headroom\",\n",
    "                        \"Home Detention Curfew caseload\": \"hdc\"\n",
    "                    },\n",
    "                })\n",
    "                .assign(value=lambda df: pd.to_numeric(df[\"value\"], errors=\"coerce\").astype(\"Int64\"))  # Convert value to numeric\n",
    "                .loc[:, [\"date\", \"group\", \"type\", \"value\"]]  # Reorder columns\n",
    "\n",
    "            )\n",
    "\n",
    "        return (\n",
    "            df\n",
    "            .dropna(how='any')  # Drop rows with missing values\n",
    "            .sort_values(\"group\")\n",
    "            .reset_index(drop=True)\n",
    "            )\n",
    "    \n",
    "    except Exception as e:\n",
    "        print(f\"Error processing {file_path}: {e}\")\n",
    "        return None  # Skip problematic files\n",
    "    \n",
    "# Testing the updated functions\n",
    "df = process_file(\"data/raw/2024/prison-pop-16-dec-2024.ods\")\n",
    "df"
   ]
  },
  {
   "cell_type": "code",
   "execution_count": null,
   "metadata": {},
   "outputs": [],
   "source": [
    "df = process_file(\"data/raw/2024/prison-pop-9-feb-2024.ods\")\n",
    "df"
   ]
  },
  {
   "cell_type": "markdown",
   "metadata": {},
   "source": [
    "That seems to be now working as expected. Now to test a folder."
   ]
  },
  {
   "cell_type": "markdown",
   "metadata": {},
   "source": [
    "### Putting it all together"
   ]
  },
  {
   "cell_type": "code",
   "execution_count": 1,
   "metadata": {},
   "outputs": [],
   "source": [
    "import glob\n",
    "import pandas as pd\n",
    "import re\n",
    "import numpy as np\n",
    "from datetime import datetime"
   ]
  },
  {
   "cell_type": "code",
   "execution_count": 2,
   "metadata": {},
   "outputs": [],
   "source": [
    "# Define the folder path and file pattern\n",
    "folder_path = \"data/raw/2024/\"\n",
    "file_pattern = \"*.ods\"\n",
    "\n",
    "# Get all matching file paths\n",
    "file_paths = glob.glob(f\"{folder_path}/{file_pattern}\")"
   ]
  },
  {
   "cell_type": "code",
   "execution_count": null,
   "metadata": {},
   "outputs": [],
   "source": [
    "# Process all files and concatenate into one DataFrame\n",
    "df_all = pd.concat([process_file(file) for file in file_paths], ignore_index=True)\n",
    "\n",
    "# Display the final DataFrame\n",
    "df_all"
   ]
  },
  {
   "cell_type": "code",
   "execution_count": 7,
   "metadata": {},
   "outputs": [
    {
     "data": {
      "text/html": [
       "<div>\n",
       "<style scoped>\n",
       "    .dataframe tbody tr th:only-of-type {\n",
       "        vertical-align: middle;\n",
       "    }\n",
       "\n",
       "    .dataframe tbody tr th {\n",
       "        vertical-align: top;\n",
       "    }\n",
       "\n",
       "    .dataframe thead th {\n",
       "        text-align: right;\n",
       "    }\n",
       "</style>\n",
       "<table border=\"1\" class=\"dataframe\">\n",
       "  <thead>\n",
       "    <tr style=\"text-align: right;\">\n",
       "      <th></th>\n",
       "      <th>date</th>\n",
       "      <th>group</th>\n",
       "      <th>type</th>\n",
       "      <th>value</th>\n",
       "    </tr>\n",
       "  </thead>\n",
       "  <tbody>\n",
       "    <tr>\n",
       "      <th>0</th>\n",
       "      <td>2024-01-05</td>\n",
       "      <td>female</td>\n",
       "      <td>prison</td>\n",
       "      <td>3571</td>\n",
       "    </tr>\n",
       "    <tr>\n",
       "      <th>1</th>\n",
       "      <td>2024-01-05</td>\n",
       "      <td>male</td>\n",
       "      <td>prison</td>\n",
       "      <td>83877</td>\n",
       "    </tr>\n",
       "    <tr>\n",
       "      <th>2</th>\n",
       "      <td>2024-01-05</td>\n",
       "      <td>total</td>\n",
       "      <td>hdc</td>\n",
       "      <td>2167</td>\n",
       "    </tr>\n",
       "    <tr>\n",
       "      <th>3</th>\n",
       "      <td>2024-01-05</td>\n",
       "      <td>total</td>\n",
       "      <td>operational_capacity</td>\n",
       "      <td>88956</td>\n",
       "    </tr>\n",
       "    <tr>\n",
       "      <th>4</th>\n",
       "      <td>2024-01-05</td>\n",
       "      <td>total</td>\n",
       "      <td>prison</td>\n",
       "      <td>87448</td>\n",
       "    </tr>\n",
       "    <tr>\n",
       "      <th>...</th>\n",
       "      <td>...</td>\n",
       "      <td>...</td>\n",
       "      <td>...</td>\n",
       "      <td>...</td>\n",
       "    </tr>\n",
       "    <tr>\n",
       "      <th>343</th>\n",
       "      <td>2024-12-30</td>\n",
       "      <td>total</td>\n",
       "      <td>operational_capacity</td>\n",
       "      <td>88688</td>\n",
       "    </tr>\n",
       "    <tr>\n",
       "      <th>344</th>\n",
       "      <td>2024-12-30</td>\n",
       "      <td>total</td>\n",
       "      <td>prison</td>\n",
       "      <td>85618</td>\n",
       "    </tr>\n",
       "    <tr>\n",
       "      <th>345</th>\n",
       "      <td>2024-12-30</td>\n",
       "      <td>youth</td>\n",
       "      <td>headroom</td>\n",
       "      <td>97</td>\n",
       "    </tr>\n",
       "    <tr>\n",
       "      <th>346</th>\n",
       "      <td>2024-12-30</td>\n",
       "      <td>youth</td>\n",
       "      <td>operational_capacity</td>\n",
       "      <td>452</td>\n",
       "    </tr>\n",
       "    <tr>\n",
       "      <th>347</th>\n",
       "      <td>2024-12-30</td>\n",
       "      <td>youth</td>\n",
       "      <td>prison</td>\n",
       "      <td>355</td>\n",
       "    </tr>\n",
       "  </tbody>\n",
       "</table>\n",
       "<p>348 rows × 4 columns</p>\n",
       "</div>"
      ],
      "text/plain": [
       "           date   group                  type  value\n",
       "0    2024-01-05  female                prison   3571\n",
       "1    2024-01-05    male                prison  83877\n",
       "2    2024-01-05   total                   hdc   2167\n",
       "3    2024-01-05   total  operational_capacity  88956\n",
       "4    2024-01-05   total                prison  87448\n",
       "..          ...     ...                   ...    ...\n",
       "343  2024-12-30   total  operational_capacity  88688\n",
       "344  2024-12-30   total                prison  85618\n",
       "345  2024-12-30   youth              headroom     97\n",
       "346  2024-12-30   youth  operational_capacity    452\n",
       "347  2024-12-30   youth                prison    355\n",
       "\n",
       "[348 rows x 4 columns]"
      ]
     },
     "execution_count": 7,
     "metadata": {},
     "output_type": "execute_result"
    }
   ],
   "source": [
    "df = (\n",
    "    pd.concat([process_file(file) for file in file_paths], ignore_index=True)\n",
    "    .sort_values([\"date\", \"group\", \"type\"])\n",
    "    .reset_index(drop=True)\n",
    "    )\n",
    "df"
   ]
  },
  {
   "cell_type": "code",
   "execution_count": null,
   "metadata": {},
   "outputs": [],
   "source": [
    "df = (\n",
    "    df_all\n",
    "    .sort_values([\"date\", \"group\", \"type\"])\n",
    "    .reset_index(drop=True)\n",
    "    )\n",
    "df"
   ]
  },
  {
   "cell_type": "code",
   "execution_count": null,
   "metadata": {},
   "outputs": [],
   "source": [
    "df.groupby(\"group\").plot(x=\"date\", y=\"value\", kind=\"line\", figsize=(12, 6))"
   ]
  },
  {
   "cell_type": "markdown",
   "metadata": {},
   "source": [
    "Okay, definitely something weird going on with some of the newer data which will need some further investigation"
   ]
  },
  {
   "cell_type": "code",
   "execution_count": null,
   "metadata": {},
   "outputs": [],
   "source": [
    "filt = df[\"group\"] == \"female\"\n",
    "df[filt]"
   ]
  },
  {
   "cell_type": "markdown",
   "metadata": {},
   "source": [
    "Ahhhhhhhh, it also needs filtering by type == 'prison'"
   ]
  },
  {
   "cell_type": "code",
   "execution_count": null,
   "metadata": {},
   "outputs": [],
   "source": [
    "filt = df[\"group\"] == \"female\"\n",
    "filt2 = df[\"type\"] == \"prison\"\n",
    "female_prison = df[filt & filt2]\n",
    "female_prison"
   ]
  },
  {
   "cell_type": "code",
   "execution_count": null,
   "metadata": {},
   "outputs": [],
   "source": [
    "female_prison.plot(x=\"date\", y=\"value\", kind=\"line\", figsize=(12, 6), )"
   ]
  },
  {
   "cell_type": "code",
   "execution_count": null,
   "metadata": {},
   "outputs": [],
   "source": []
  },
  {
   "cell_type": "code",
   "execution_count": null,
   "metadata": {},
   "outputs": [],
   "source": []
  },
  {
   "cell_type": "code",
   "execution_count": null,
   "metadata": {},
   "outputs": [],
   "source": [
    "df.info()"
   ]
  },
  {
   "cell_type": "code",
   "execution_count": null,
   "metadata": {},
   "outputs": [],
   "source": [
    "df[\"date\"] = pd.to_datetime(df[\"date\"])\n",
    "df.info()"
   ]
  },
  {
   "cell_type": "markdown",
   "metadata": {},
   "source": [
    "## Testing with (17, 8) and (17, 9) shapes"
   ]
  },
  {
   "cell_type": "code",
   "execution_count": null,
   "metadata": {},
   "outputs": [],
   "source": [
    "def process_historic_file(file_path):\n",
    "    \"\"\"Processes historic format spreadsheets to match new format structure.\"\"\"\n",
    "    try:\n",
    "        # Read the file\n",
    "        df = file_path\n",
    "\n",
    "        # Select relevant rows and columns\n",
    "        selected_rows = list(range(7))  # First 7 rows contain relevant data\n",
    "        selected_cols = [2, 5]  # Adjust based on actual needed columns\n",
    "        df = df.iloc[selected_rows, selected_cols]\n",
    "\n",
    "        # Extract date\n",
    "        date = extract_date_from_string(df.iloc[0, 0])\n",
    "        if date is None:\n",
    "            raise ValueError(f\"Could not extract date from {file_path}\")\n",
    "        \n",
    "        # Rename columns for clarity\n",
    "        df.columns = [\"type\", \"group_value\"]\n",
    "        \n",
    "        # Step 1: Assign 'total' to group for original 'prison' type\n",
    "        df.loc[df[\"type\"] == \"Population\", \"group\"] = \"total\"\n",
    "        df.loc[df[\"type\"] == \"Population\", \"type\"] = \"prison\"\n",
    "\n",
    "        # Step 2: Assign correct group values for male and female estate\n",
    "        df.loc[df[\"type\"] == \"Population in male estate\", \"group\"] = \"male\"\n",
    "        df.loc[df[\"type\"] == \"Population in female estate\", \"group\"] = \"female\"\n",
    "\n",
    "        # Step 3: Change type for male and female estate to 'prison'\n",
    "        df.loc[df[\"type\"].isin([\"Population in male estate\", \"Population in female estate\"]), \"type\"] = \"prison\"\n",
    "        \n",
    "        # Step 4: Map other types to their new format\n",
    "        type_mapping = {\n",
    "            \"Useable Operational Capacity\": \"operational_capacity\",\n",
    "            \"Home Detention Curfew caseload\": \"hdc\"\n",
    "        }\n",
    "        df[\"type\"] = df[\"type\"].replace(type_mapping)\n",
    "\n",
    "        # Step 5: Ensure 'total' is assigned to operational capacity and HDC\n",
    "        df.loc[df[\"type\"].isin([\"operational_capacity\", \"hdc\"]), \"group\"] = \"total\"\n",
    "        \n",
    "        # Assign extracted date and cleanup\n",
    "        df = (\n",
    "            df.assign(date=date)  # Assign extracted date\n",
    "            .rename(columns={\"group_value\": \"value\"})  # Rename column for consistency\n",
    "            .assign(value=lambda x: pd.to_numeric(x[\"value\"], errors=\"coerce\").astype(\"Int64\"))  # Convert values to numeric\n",
    "            .loc[:, [\"date\", \"group\", \"type\", \"value\"]]  # Reorder columns (keep all rows)\n",
    "            .loc[4:]  # Keep rows from index 4 onwards (after dropping unwanted metadata)\n",
    "        )\n",
    "\n",
    "        return df\n",
    "    \n",
    "    except Exception as e:\n",
    "        print(f\"Error processing {file_path}: {e}\")\n",
    "        return None\n",
    "    \n",
    "def process_file(file_path):\n",
    "    try:\n",
    "        # Read the file\n",
    "        df = pd.read_excel(file_path, engine=\"odf\").dropna(how=\"all\")\n",
    "\n",
    "        # Determine format based on shape\n",
    "        \n",
    "        if df.shape in [(18, 8), (17, 8), (17,9)]:  # Historic formats\n",
    "            format_type = \"historic\"\n",
    "            df = process_historic_file(df)\n",
    "            \n",
    "        elif df.shape == (25, 9):\n",
    "            format_type = \"new\"\n",
    "\n",
    "            # Select relevant rows and columns\n",
    "            selected_rows = list(range(6))  # First 6 rows contain relevant data\n",
    "            selected_cols = [2, 4, 6, 7, 8]  # Adjust for new format\n",
    "            df = df.iloc[selected_rows, selected_cols]\n",
    "\n",
    "            # Extract date\n",
    "            date = extract_date_from_string(df.iloc[0, 0])\n",
    "            if date is None:\n",
    "                raise ValueError(f\"Could not extract date from {file_path}\")\n",
    "        \n",
    "            df = (\n",
    "                df\n",
    "                .assign(date=extract_date_from_string(df.iloc[0, 0]))  # Assign extracted date\n",
    "                .loc[[4, 5, 6, 8], :]\n",
    "                .rename(columns=dict(zip(df.columns, [\"type\", \"total\", \"male\", \"female\", \"youth\", \"date\"])))\n",
    "                .melt(id_vars=[\"date\", \"type\"], var_name=\"group\", value_name=\"value\")\n",
    "                .replace({\n",
    "                    \"type\": {\n",
    "                        \"Population\": \"prison\",\n",
    "                        \"Useable Operational Capacity\": \"operational_capacity\",\n",
    "                        \"Headroom\": \"headroom\",\n",
    "                        \"Home Detention Curfew caseload\": \"hdc\"\n",
    "                    },\n",
    "                })\n",
    "                .assign(value=lambda df: pd.to_numeric(df[\"value\"], errors=\"coerce\").astype(\"Int64\"))  # Convert value to numeric\n",
    "                .loc[:, [\"date\", \"group\", \"type\", \"value\"]]  # Reorder columns\n",
    "\n",
    "            )\n",
    "\n",
    "        return (\n",
    "            df\n",
    "            .dropna(how='any')  # Drop rows with missing values\n",
    "            .sort_values(\"group\")\n",
    "            .reset_index(drop=True)\n",
    "            )\n",
    "    \n",
    "    except Exception as e:\n",
    "        print(f\"Error processing {file_path}: {e}\")\n",
    "        return None  # Skip problematic files"
   ]
  },
  {
   "cell_type": "code",
   "execution_count": 18,
   "metadata": {},
   "outputs": [
    {
     "data": {
      "text/html": [
       "<div>\n",
       "<style scoped>\n",
       "    .dataframe tbody tr th:only-of-type {\n",
       "        vertical-align: middle;\n",
       "    }\n",
       "\n",
       "    .dataframe tbody tr th {\n",
       "        vertical-align: top;\n",
       "    }\n",
       "\n",
       "    .dataframe thead th {\n",
       "        text-align: right;\n",
       "    }\n",
       "</style>\n",
       "<table border=\"1\" class=\"dataframe\">\n",
       "  <thead>\n",
       "    <tr style=\"text-align: right;\">\n",
       "      <th></th>\n",
       "      <th>date</th>\n",
       "      <th>group</th>\n",
       "      <th>type</th>\n",
       "      <th>value</th>\n",
       "    </tr>\n",
       "  </thead>\n",
       "  <tbody>\n",
       "    <tr>\n",
       "      <th>0</th>\n",
       "      <td>2023-06-30</td>\n",
       "      <td>female</td>\n",
       "      <td>prison</td>\n",
       "      <td>3370</td>\n",
       "    </tr>\n",
       "    <tr>\n",
       "      <th>1</th>\n",
       "      <td>2023-06-30</td>\n",
       "      <td>male</td>\n",
       "      <td>prison</td>\n",
       "      <td>82481</td>\n",
       "    </tr>\n",
       "    <tr>\n",
       "      <th>2</th>\n",
       "      <td>2023-06-30</td>\n",
       "      <td>total</td>\n",
       "      <td>prison</td>\n",
       "      <td>85851</td>\n",
       "    </tr>\n",
       "    <tr>\n",
       "      <th>3</th>\n",
       "      <td>2023-06-30</td>\n",
       "      <td>total</td>\n",
       "      <td>operational_capacity</td>\n",
       "      <td>86859</td>\n",
       "    </tr>\n",
       "    <tr>\n",
       "      <th>4</th>\n",
       "      <td>2023-06-30</td>\n",
       "      <td>total</td>\n",
       "      <td>hdc</td>\n",
       "      <td>2117</td>\n",
       "    </tr>\n",
       "  </tbody>\n",
       "</table>\n",
       "</div>"
      ],
      "text/plain": [
       "         date   group                  type  value\n",
       "0  2023-06-30  female                prison   3370\n",
       "1  2023-06-30    male                prison  82481\n",
       "2  2023-06-30   total                prison  85851\n",
       "3  2023-06-30   total  operational_capacity  86859\n",
       "4  2023-06-30   total                   hdc   2117"
      ]
     },
     "execution_count": 18,
     "metadata": {},
     "output_type": "execute_result"
    }
   ],
   "source": [
    "df_17_8 = process_file('data/raw/2023/prison-pop-30-june-2023.ods')\n",
    "df_17_8"
   ]
  },
  {
   "cell_type": "code",
   "execution_count": 32,
   "metadata": {},
   "outputs": [
    {
     "data": {
      "text/html": [
       "<div>\n",
       "<style scoped>\n",
       "    .dataframe tbody tr th:only-of-type {\n",
       "        vertical-align: middle;\n",
       "    }\n",
       "\n",
       "    .dataframe tbody tr th {\n",
       "        vertical-align: top;\n",
       "    }\n",
       "\n",
       "    .dataframe thead th {\n",
       "        text-align: right;\n",
       "    }\n",
       "</style>\n",
       "<table border=\"1\" class=\"dataframe\">\n",
       "  <thead>\n",
       "    <tr style=\"text-align: right;\">\n",
       "      <th></th>\n",
       "      <th>date</th>\n",
       "      <th>group</th>\n",
       "      <th>type</th>\n",
       "      <th>value</th>\n",
       "    </tr>\n",
       "  </thead>\n",
       "  <tbody>\n",
       "    <tr>\n",
       "      <th>0</th>\n",
       "      <td>2021-07-09</td>\n",
       "      <td>total</td>\n",
       "      <td>prison</td>\n",
       "      <td>78448</td>\n",
       "    </tr>\n",
       "    <tr>\n",
       "      <th>1</th>\n",
       "      <td>2021-07-09</td>\n",
       "      <td>total</td>\n",
       "      <td>operational_capacity</td>\n",
       "      <td>81097</td>\n",
       "    </tr>\n",
       "  </tbody>\n",
       "</table>\n",
       "</div>"
      ],
      "text/plain": [
       "         date  group                  type  value\n",
       "0  2021-07-09  total                prison  78448\n",
       "1  2021-07-09  total  operational_capacity  81097"
      ]
     },
     "execution_count": 32,
     "metadata": {},
     "output_type": "execute_result"
    }
   ],
   "source": [
    "df_17_9 = process_file('data/raw/2021/prison-pop-9-july-2021.ods')\n",
    "df_17_9"
   ]
  },
  {
   "cell_type": "markdown",
   "metadata": {},
   "source": [
    "Right, that's returning some of the data but not all. Let's run through the stages of the output."
   ]
  },
  {
   "cell_type": "code",
   "execution_count": null,
   "metadata": {},
   "outputs": [],
   "source": []
  }
 ],
 "metadata": {
  "kernelspec": {
   "display_name": "Python 3",
   "language": "python",
   "name": "python3"
  },
  "language_info": {
   "codemirror_mode": {
    "name": "ipython",
    "version": 3
   },
   "file_extension": ".py",
   "mimetype": "text/x-python",
   "name": "python",
   "nbconvert_exporter": "python",
   "pygments_lexer": "ipython3",
   "version": "3.12.2"
  }
 },
 "nbformat": 4,
 "nbformat_minor": 2
}
