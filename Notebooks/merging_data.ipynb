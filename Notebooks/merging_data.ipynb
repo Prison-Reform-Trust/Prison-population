{
 "cells": [
  {
   "cell_type": "code",
   "execution_count": 1,
   "metadata": {},
   "outputs": [],
   "source": [
    "import glob\n",
    "import pandas as pd\n",
    "import re"
   ]
  },
  {
   "cell_type": "markdown",
   "metadata": {},
   "source": [
    "## Attempting to load in and concat all of the spreadsheets"
   ]
  },
  {
   "cell_type": "code",
   "execution_count": 2,
   "metadata": {},
   "outputs": [],
   "source": [
    "def loadData(path=\"data/raw/\"):\n",
    "    print('Loading data...')\n",
    "    all_files = glob.glob(path + \"*.ods\")\n",
    "    all_csvs = [pd.read_excel(filename, header=3, engine=\"odf\") for filename in all_files]\n",
    "    return pd.concat(all_csvs, axis=0, ignore_index=True)"
   ]
  },
  {
   "cell_type": "code",
   "execution_count": 3,
   "metadata": {},
   "outputs": [
    {
     "data": {
      "text/html": [
       "<div>\n",
       "<style scoped>\n",
       "    .dataframe tbody tr th:only-of-type {\n",
       "        vertical-align: middle;\n",
       "    }\n",
       "\n",
       "    .dataframe tbody tr th {\n",
       "        vertical-align: top;\n",
       "    }\n",
       "\n",
       "    .dataframe thead th {\n",
       "        text-align: right;\n",
       "    }\n",
       "</style>\n",
       "<table border=\"1\" class=\"dataframe\">\n",
       "  <thead>\n",
       "    <tr style=\"text-align: right;\">\n",
       "      <th></th>\n",
       "      <th>Prison Name</th>\n",
       "      <th>Baseline CNA</th>\n",
       "      <th>In Use CNA</th>\n",
       "      <th>Operational Capacity</th>\n",
       "      <th>Population *</th>\n",
       "    </tr>\n",
       "  </thead>\n",
       "  <tbody>\n",
       "    <tr>\n",
       "      <th>0</th>\n",
       "      <td>Altcourse</td>\n",
       "      <td>780.0</td>\n",
       "      <td>780.0</td>\n",
       "      <td>1164</td>\n",
       "      <td>1149.0</td>\n",
       "    </tr>\n",
       "    <tr>\n",
       "      <th>1</th>\n",
       "      <td>Ashfield</td>\n",
       "      <td>416.0</td>\n",
       "      <td>416.0</td>\n",
       "      <td>412</td>\n",
       "      <td>411.0</td>\n",
       "    </tr>\n",
       "    <tr>\n",
       "      <th>2</th>\n",
       "      <td>Askham Grange</td>\n",
       "      <td>128.0</td>\n",
       "      <td>128.0</td>\n",
       "      <td>128</td>\n",
       "      <td>94.0</td>\n",
       "    </tr>\n",
       "    <tr>\n",
       "      <th>3</th>\n",
       "      <td>Aylesbury</td>\n",
       "      <td>402.0</td>\n",
       "      <td>402.0</td>\n",
       "      <td>402</td>\n",
       "      <td>399.0</td>\n",
       "    </tr>\n",
       "    <tr>\n",
       "      <th>4</th>\n",
       "      <td>Bedford</td>\n",
       "      <td>268.0</td>\n",
       "      <td>229.0</td>\n",
       "      <td>400</td>\n",
       "      <td>358.0</td>\n",
       "    </tr>\n",
       "  </tbody>\n",
       "</table>\n",
       "</div>"
      ],
      "text/plain": [
       "     Prison Name  Baseline CNA  In Use CNA Operational Capacity  Population *\n",
       "0      Altcourse         780.0       780.0                 1164        1149.0\n",
       "1       Ashfield         416.0       416.0                  412         411.0\n",
       "2  Askham Grange         128.0       128.0                  128          94.0\n",
       "3      Aylesbury         402.0       402.0                  402         399.0\n",
       "4        Bedford         268.0       229.0                  400         358.0"
      ]
     },
     "execution_count": 3,
     "metadata": {},
     "output_type": "execute_result"
    }
   ],
   "source": [
    "df = pd.read_excel('data/raw/prison-pop-august-2023.ods', header=3, engine=\"odf\")\n",
    "df.head()"
   ]
  },
  {
   "cell_type": "code",
   "execution_count": 5,
   "metadata": {},
   "outputs": [
    {
     "name": "stdout",
     "output_type": "stream",
     "text": [
      "Loading data...\n"
     ]
    }
   ],
   "source": [
    "df_concat = loadData()"
   ]
  },
  {
   "cell_type": "code",
   "execution_count": 6,
   "metadata": {},
   "outputs": [
    {
     "data": {
      "text/html": [
       "<div>\n",
       "<style scoped>\n",
       "    .dataframe tbody tr th:only-of-type {\n",
       "        vertical-align: middle;\n",
       "    }\n",
       "\n",
       "    .dataframe tbody tr th {\n",
       "        vertical-align: top;\n",
       "    }\n",
       "\n",
       "    .dataframe thead th {\n",
       "        text-align: right;\n",
       "    }\n",
       "</style>\n",
       "<table border=\"1\" class=\"dataframe\">\n",
       "  <thead>\n",
       "    <tr style=\"text-align: right;\">\n",
       "      <th></th>\n",
       "      <th>Prison Name</th>\n",
       "      <th>Baseline CNA</th>\n",
       "      <th>In Use CNA</th>\n",
       "      <th>Operational Capacity</th>\n",
       "      <th>Population *</th>\n",
       "    </tr>\n",
       "  </thead>\n",
       "  <tbody>\n",
       "    <tr>\n",
       "      <th>0</th>\n",
       "      <td>Altcourse</td>\n",
       "      <td>780.0</td>\n",
       "      <td>780.0</td>\n",
       "      <td>1164</td>\n",
       "      <td>1149.0</td>\n",
       "    </tr>\n",
       "    <tr>\n",
       "      <th>1</th>\n",
       "      <td>Ashfield</td>\n",
       "      <td>416.0</td>\n",
       "      <td>416.0</td>\n",
       "      <td>412</td>\n",
       "      <td>411.0</td>\n",
       "    </tr>\n",
       "    <tr>\n",
       "      <th>2</th>\n",
       "      <td>Askham Grange</td>\n",
       "      <td>128.0</td>\n",
       "      <td>128.0</td>\n",
       "      <td>128</td>\n",
       "      <td>94.0</td>\n",
       "    </tr>\n",
       "    <tr>\n",
       "      <th>3</th>\n",
       "      <td>Aylesbury</td>\n",
       "      <td>402.0</td>\n",
       "      <td>402.0</td>\n",
       "      <td>402</td>\n",
       "      <td>399.0</td>\n",
       "    </tr>\n",
       "    <tr>\n",
       "      <th>4</th>\n",
       "      <td>Bedford</td>\n",
       "      <td>268.0</td>\n",
       "      <td>229.0</td>\n",
       "      <td>400</td>\n",
       "      <td>358.0</td>\n",
       "    </tr>\n",
       "    <tr>\n",
       "      <th>...</th>\n",
       "      <td>...</td>\n",
       "      <td>...</td>\n",
       "      <td>...</td>\n",
       "      <td>...</td>\n",
       "      <td>...</td>\n",
       "    </tr>\n",
       "    <tr>\n",
       "      <th>1239</th>\n",
       "      <td>Her Majesty's Prison &amp; Probation Service (HMPP...</td>\n",
       "      <td>NaN</td>\n",
       "      <td>NaN</td>\n",
       "      <td>NaN</td>\n",
       "      <td>NaN</td>\n",
       "    </tr>\n",
       "    <tr>\n",
       "      <th>1240</th>\n",
       "      <td>This is published in the HMPPS Annual Digest ...</td>\n",
       "      <td>NaN</td>\n",
       "      <td>NaN</td>\n",
       "      <td>NaN</td>\n",
       "      <td>NaN</td>\n",
       "    </tr>\n",
       "    <tr>\n",
       "      <th>1241</th>\n",
       "      <td>NaN</td>\n",
       "      <td>NaN</td>\n",
       "      <td>NaN</td>\n",
       "      <td>NaN</td>\n",
       "      <td>NaN</td>\n",
       "    </tr>\n",
       "    <tr>\n",
       "      <th>1242</th>\n",
       "      <td>Establishments Exceeding their Operational Cap...</td>\n",
       "      <td>NaN</td>\n",
       "      <td>NaN</td>\n",
       "      <td>NaN</td>\n",
       "      <td>NaN</td>\n",
       "    </tr>\n",
       "    <tr>\n",
       "      <th>1243</th>\n",
       "      <td>Governing governors and Controllers and Direct...</td>\n",
       "      <td>NaN</td>\n",
       "      <td>NaN</td>\n",
       "      <td>NaN</td>\n",
       "      <td>NaN</td>\n",
       "    </tr>\n",
       "  </tbody>\n",
       "</table>\n",
       "<p>1244 rows × 5 columns</p>\n",
       "</div>"
      ],
      "text/plain": [
       "                                            Prison Name  Baseline CNA  \\\n",
       "0                                             Altcourse         780.0   \n",
       "1                                              Ashfield         416.0   \n",
       "2                                         Askham Grange         128.0   \n",
       "3                                             Aylesbury         402.0   \n",
       "4                                               Bedford         268.0   \n",
       "...                                                 ...           ...   \n",
       "1239  Her Majesty's Prison & Probation Service (HMPP...           NaN   \n",
       "1240   This is published in the HMPPS Annual Digest ...           NaN   \n",
       "1241                                                NaN           NaN   \n",
       "1242  Establishments Exceeding their Operational Cap...           NaN   \n",
       "1243  Governing governors and Controllers and Direct...           NaN   \n",
       "\n",
       "      In Use CNA Operational Capacity  Population *  \n",
       "0          780.0                 1164        1149.0  \n",
       "1          416.0                  412         411.0  \n",
       "2          128.0                  128          94.0  \n",
       "3          402.0                  402         399.0  \n",
       "4          229.0                  400         358.0  \n",
       "...          ...                  ...           ...  \n",
       "1239         NaN                  NaN           NaN  \n",
       "1240         NaN                  NaN           NaN  \n",
       "1241         NaN                  NaN           NaN  \n",
       "1242         NaN                  NaN           NaN  \n",
       "1243         NaN                  NaN           NaN  \n",
       "\n",
       "[1244 rows x 5 columns]"
      ]
     },
     "execution_count": 6,
     "metadata": {},
     "output_type": "execute_result"
    }
   ],
   "source": [
    "df_concat"
   ]
  },
  {
   "cell_type": "markdown",
   "metadata": {},
   "source": [
    "This has worked but there is no identifying date column. So I need to work through and see if I can extract and infer the date from the filename"
   ]
  },
  {
   "cell_type": "code",
   "execution_count": 17,
   "metadata": {},
   "outputs": [],
   "source": [
    "all_files = glob.glob(\"data/raw/\" + \"*.ods\")\n",
    "all_csvs = [pd.read_excel(filename, header=3, engine=\"odf\") for filename in all_files]"
   ]
  },
  {
   "cell_type": "code",
   "execution_count": 18,
   "metadata": {},
   "outputs": [
    {
     "data": {
      "text/plain": [
       "['data/raw/prison-pop-august-2023.ods',\n",
       " 'data/raw/prison-pop-february-2023.ods',\n",
       " 'data/raw/prison-pop-june-2023.ods',\n",
       " 'data/raw/prison-pop-july-2023.ods',\n",
       " 'data/raw/prison-pop-april-2023.ods',\n",
       " 'data/raw/prison-pop-january-2023.ods',\n",
       " 'data/raw/prison-pop-may-2023.ods',\n",
       " 'data/raw/prison-population-march-2023.ods']"
      ]
     },
     "execution_count": 18,
     "metadata": {},
     "output_type": "execute_result"
    }
   ],
   "source": [
    "all_files"
   ]
  },
  {
   "cell_type": "code",
   "execution_count": 19,
   "metadata": {},
   "outputs": [],
   "source": [
    "date_text = re.findall(r'(?:data/raw/prison-pop-)(.*)(?:.ods)', all_files[0])[0]"
   ]
  },
  {
   "cell_type": "code",
   "execution_count": 20,
   "metadata": {},
   "outputs": [
    {
     "data": {
      "text/plain": [
       "'august-2023'"
      ]
     },
     "execution_count": 20,
     "metadata": {},
     "output_type": "execute_result"
    }
   ],
   "source": [
    "date_text"
   ]
  },
  {
   "cell_type": "code",
   "execution_count": null,
   "metadata": {},
   "outputs": [
    {
     "data": {
      "text/plain": [
       "Timestamp('2023-08-01 00:00:00')"
      ]
     },
     "metadata": {},
     "output_type": "display_data"
    }
   ],
   "source": [
    "pd.to_datetime(date_text, format='%B-%Y')"
   ]
  },
  {
   "cell_type": "code",
   "execution_count": 59,
   "metadata": {},
   "outputs": [
    {
     "data": {
      "text/html": [
       "<div>\n",
       "<style scoped>\n",
       "    .dataframe tbody tr th:only-of-type {\n",
       "        vertical-align: middle;\n",
       "    }\n",
       "\n",
       "    .dataframe tbody tr th {\n",
       "        vertical-align: top;\n",
       "    }\n",
       "\n",
       "    .dataframe thead th {\n",
       "        text-align: right;\n",
       "    }\n",
       "</style>\n",
       "<table border=\"1\" class=\"dataframe\">\n",
       "  <thead>\n",
       "    <tr style=\"text-align: right;\">\n",
       "      <th></th>\n",
       "      <th>Prison Name</th>\n",
       "      <th>Baseline CNA</th>\n",
       "      <th>In Use CNA</th>\n",
       "      <th>Operational Capacity</th>\n",
       "      <th>Population *</th>\n",
       "      <th>date</th>\n",
       "    </tr>\n",
       "  </thead>\n",
       "  <tbody>\n",
       "    <tr>\n",
       "      <th>0</th>\n",
       "      <td>Altcourse</td>\n",
       "      <td>780.0</td>\n",
       "      <td>780.0</td>\n",
       "      <td>1164</td>\n",
       "      <td>1149.0</td>\n",
       "      <td>2023-08-01</td>\n",
       "    </tr>\n",
       "    <tr>\n",
       "      <th>1</th>\n",
       "      <td>Ashfield</td>\n",
       "      <td>416.0</td>\n",
       "      <td>416.0</td>\n",
       "      <td>412</td>\n",
       "      <td>411.0</td>\n",
       "      <td>2023-08-01</td>\n",
       "    </tr>\n",
       "    <tr>\n",
       "      <th>2</th>\n",
       "      <td>Askham Grange</td>\n",
       "      <td>128.0</td>\n",
       "      <td>128.0</td>\n",
       "      <td>128</td>\n",
       "      <td>94.0</td>\n",
       "      <td>2023-08-01</td>\n",
       "    </tr>\n",
       "    <tr>\n",
       "      <th>3</th>\n",
       "      <td>Aylesbury</td>\n",
       "      <td>402.0</td>\n",
       "      <td>402.0</td>\n",
       "      <td>402</td>\n",
       "      <td>399.0</td>\n",
       "      <td>2023-08-01</td>\n",
       "    </tr>\n",
       "    <tr>\n",
       "      <th>4</th>\n",
       "      <td>Bedford</td>\n",
       "      <td>268.0</td>\n",
       "      <td>229.0</td>\n",
       "      <td>400</td>\n",
       "      <td>358.0</td>\n",
       "      <td>2023-08-01</td>\n",
       "    </tr>\n",
       "    <tr>\n",
       "      <th>...</th>\n",
       "      <td>...</td>\n",
       "      <td>...</td>\n",
       "      <td>...</td>\n",
       "      <td>...</td>\n",
       "      <td>...</td>\n",
       "      <td>...</td>\n",
       "    </tr>\n",
       "    <tr>\n",
       "      <th>151</th>\n",
       "      <td>Her Majesty's Prison &amp; Probation Service (HMPP...</td>\n",
       "      <td>NaN</td>\n",
       "      <td>NaN</td>\n",
       "      <td>NaN</td>\n",
       "      <td>NaN</td>\n",
       "      <td>2023-08-01</td>\n",
       "    </tr>\n",
       "    <tr>\n",
       "      <th>152</th>\n",
       "      <td>This is published in the HMPPS Annual Digest ...</td>\n",
       "      <td>NaN</td>\n",
       "      <td>NaN</td>\n",
       "      <td>NaN</td>\n",
       "      <td>NaN</td>\n",
       "      <td>2023-08-01</td>\n",
       "    </tr>\n",
       "    <tr>\n",
       "      <th>153</th>\n",
       "      <td>NaN</td>\n",
       "      <td>NaN</td>\n",
       "      <td>NaN</td>\n",
       "      <td>NaN</td>\n",
       "      <td>NaN</td>\n",
       "      <td>2023-08-01</td>\n",
       "    </tr>\n",
       "    <tr>\n",
       "      <th>154</th>\n",
       "      <td>Establishments Exceeding their Operational Cap...</td>\n",
       "      <td>NaN</td>\n",
       "      <td>NaN</td>\n",
       "      <td>NaN</td>\n",
       "      <td>NaN</td>\n",
       "      <td>2023-08-01</td>\n",
       "    </tr>\n",
       "    <tr>\n",
       "      <th>155</th>\n",
       "      <td>Governing governors and Controllers and Direct...</td>\n",
       "      <td>NaN</td>\n",
       "      <td>NaN</td>\n",
       "      <td>NaN</td>\n",
       "      <td>NaN</td>\n",
       "      <td>2023-08-01</td>\n",
       "    </tr>\n",
       "  </tbody>\n",
       "</table>\n",
       "<p>156 rows × 6 columns</p>\n",
       "</div>"
      ],
      "text/plain": [
       "                                           Prison Name  Baseline CNA  \\\n",
       "0                                            Altcourse         780.0   \n",
       "1                                             Ashfield         416.0   \n",
       "2                                        Askham Grange         128.0   \n",
       "3                                            Aylesbury         402.0   \n",
       "4                                              Bedford         268.0   \n",
       "..                                                 ...           ...   \n",
       "151  Her Majesty's Prison & Probation Service (HMPP...           NaN   \n",
       "152   This is published in the HMPPS Annual Digest ...           NaN   \n",
       "153                                                NaN           NaN   \n",
       "154  Establishments Exceeding their Operational Cap...           NaN   \n",
       "155  Governing governors and Controllers and Direct...           NaN   \n",
       "\n",
       "     In Use CNA Operational Capacity  Population *       date  \n",
       "0         780.0                 1164        1149.0 2023-08-01  \n",
       "1         416.0                  412         411.0 2023-08-01  \n",
       "2         128.0                  128          94.0 2023-08-01  \n",
       "3         402.0                  402         399.0 2023-08-01  \n",
       "4         229.0                  400         358.0 2023-08-01  \n",
       "..          ...                  ...           ...        ...  \n",
       "151         NaN                  NaN           NaN 2023-08-01  \n",
       "152         NaN                  NaN           NaN 2023-08-01  \n",
       "153         NaN                  NaN           NaN 2023-08-01  \n",
       "154         NaN                  NaN           NaN 2023-08-01  \n",
       "155         NaN                  NaN           NaN 2023-08-01  \n",
       "\n",
       "[156 rows x 6 columns]"
      ]
     },
     "execution_count": 59,
     "metadata": {},
     "output_type": "execute_result"
    }
   ],
   "source": [
    "all_csvs[0]['date'] = pd.to_datetime(date_text, format='%B-%Y')\n",
    "all_csvs[0]"
   ]
  },
  {
   "cell_type": "markdown",
   "metadata": {},
   "source": [
    "Great, this logic works, so let's consolidate this into a loop within the `loadData()` function"
   ]
  },
  {
   "cell_type": "code",
   "execution_count": 10,
   "metadata": {},
   "outputs": [],
   "source": [
    "def loadData(path=\"data/raw/\"):\n",
    "    print('Loading data...')\n",
    "    all_files = glob.glob(path + \"*.ods\")\n",
    "    all_odfs = [pd.read_excel(filename, header=3, engine=\"odf\") for filename in all_files]\n",
    "    all_dates = [re.findall(r'(?:data/raw/prison-pop-)(.*)(?:.ods)', all_files[i])[0] for i in range(len(all_files)-1)]\n",
    "\n",
    "    \n",
    "    \n",
    "    return pd.concat(all_odfs, axis=0, ignore_index=True)"
   ]
  },
  {
   "cell_type": "code",
   "execution_count": 11,
   "metadata": {},
   "outputs": [
    {
     "name": "stdout",
     "output_type": "stream",
     "text": [
      "Loading data...\n"
     ]
    }
   ],
   "source": [
    "df = loadData()"
   ]
  },
  {
   "cell_type": "code",
   "execution_count": 15,
   "metadata": {},
   "outputs": [
    {
     "data": {
      "text/plain": [
       "8"
      ]
     },
     "execution_count": 15,
     "metadata": {},
     "output_type": "execute_result"
    }
   ],
   "source": [
    "len(df)"
   ]
  },
  {
   "cell_type": "code",
   "execution_count": 13,
   "metadata": {},
   "outputs": [
    {
     "data": {
      "text/html": [
       "<div>\n",
       "<style scoped>\n",
       "    .dataframe tbody tr th:only-of-type {\n",
       "        vertical-align: middle;\n",
       "    }\n",
       "\n",
       "    .dataframe tbody tr th {\n",
       "        vertical-align: top;\n",
       "    }\n",
       "\n",
       "    .dataframe thead th {\n",
       "        text-align: right;\n",
       "    }\n",
       "</style>\n",
       "<table border=\"1\" class=\"dataframe\">\n",
       "  <thead>\n",
       "    <tr style=\"text-align: right;\">\n",
       "      <th></th>\n",
       "      <th>Prison Name</th>\n",
       "      <th>Baseline CNA</th>\n",
       "      <th>In Use CNA</th>\n",
       "      <th>Operational Capacity</th>\n",
       "      <th>Population *</th>\n",
       "    </tr>\n",
       "  </thead>\n",
       "  <tbody>\n",
       "    <tr>\n",
       "      <th>0</th>\n",
       "      <td>Altcourse</td>\n",
       "      <td>780.0</td>\n",
       "      <td>780.0</td>\n",
       "      <td>1164</td>\n",
       "      <td>1149.0</td>\n",
       "    </tr>\n",
       "    <tr>\n",
       "      <th>1</th>\n",
       "      <td>Ashfield</td>\n",
       "      <td>416.0</td>\n",
       "      <td>416.0</td>\n",
       "      <td>412</td>\n",
       "      <td>411.0</td>\n",
       "    </tr>\n",
       "    <tr>\n",
       "      <th>2</th>\n",
       "      <td>Askham Grange</td>\n",
       "      <td>128.0</td>\n",
       "      <td>128.0</td>\n",
       "      <td>128</td>\n",
       "      <td>94.0</td>\n",
       "    </tr>\n",
       "    <tr>\n",
       "      <th>3</th>\n",
       "      <td>Aylesbury</td>\n",
       "      <td>402.0</td>\n",
       "      <td>402.0</td>\n",
       "      <td>402</td>\n",
       "      <td>399.0</td>\n",
       "    </tr>\n",
       "    <tr>\n",
       "      <th>4</th>\n",
       "      <td>Bedford</td>\n",
       "      <td>268.0</td>\n",
       "      <td>229.0</td>\n",
       "      <td>400</td>\n",
       "      <td>358.0</td>\n",
       "    </tr>\n",
       "    <tr>\n",
       "      <th>...</th>\n",
       "      <td>...</td>\n",
       "      <td>...</td>\n",
       "      <td>...</td>\n",
       "      <td>...</td>\n",
       "      <td>...</td>\n",
       "    </tr>\n",
       "    <tr>\n",
       "      <th>151</th>\n",
       "      <td>Her Majesty's Prison &amp; Probation Service (HMPP...</td>\n",
       "      <td>NaN</td>\n",
       "      <td>NaN</td>\n",
       "      <td>NaN</td>\n",
       "      <td>NaN</td>\n",
       "    </tr>\n",
       "    <tr>\n",
       "      <th>152</th>\n",
       "      <td>This is published in the HMPPS Annual Digest ...</td>\n",
       "      <td>NaN</td>\n",
       "      <td>NaN</td>\n",
       "      <td>NaN</td>\n",
       "      <td>NaN</td>\n",
       "    </tr>\n",
       "    <tr>\n",
       "      <th>153</th>\n",
       "      <td>NaN</td>\n",
       "      <td>NaN</td>\n",
       "      <td>NaN</td>\n",
       "      <td>NaN</td>\n",
       "      <td>NaN</td>\n",
       "    </tr>\n",
       "    <tr>\n",
       "      <th>154</th>\n",
       "      <td>Establishments Exceeding their Operational Cap...</td>\n",
       "      <td>NaN</td>\n",
       "      <td>NaN</td>\n",
       "      <td>NaN</td>\n",
       "      <td>NaN</td>\n",
       "    </tr>\n",
       "    <tr>\n",
       "      <th>155</th>\n",
       "      <td>Governing governors and Controllers and Direct...</td>\n",
       "      <td>NaN</td>\n",
       "      <td>NaN</td>\n",
       "      <td>NaN</td>\n",
       "      <td>NaN</td>\n",
       "    </tr>\n",
       "  </tbody>\n",
       "</table>\n",
       "<p>156 rows × 5 columns</p>\n",
       "</div>"
      ],
      "text/plain": [
       "                                           Prison Name  Baseline CNA  \\\n",
       "0                                            Altcourse         780.0   \n",
       "1                                             Ashfield         416.0   \n",
       "2                                        Askham Grange         128.0   \n",
       "3                                            Aylesbury         402.0   \n",
       "4                                              Bedford         268.0   \n",
       "..                                                 ...           ...   \n",
       "151  Her Majesty's Prison & Probation Service (HMPP...           NaN   \n",
       "152   This is published in the HMPPS Annual Digest ...           NaN   \n",
       "153                                                NaN           NaN   \n",
       "154  Establishments Exceeding their Operational Cap...           NaN   \n",
       "155  Governing governors and Controllers and Direct...           NaN   \n",
       "\n",
       "     In Use CNA Operational Capacity  Population *  \n",
       "0         780.0                 1164        1149.0  \n",
       "1         416.0                  412         411.0  \n",
       "2         128.0                  128          94.0  \n",
       "3         402.0                  402         399.0  \n",
       "4         229.0                  400         358.0  \n",
       "..          ...                  ...           ...  \n",
       "151         NaN                  NaN           NaN  \n",
       "152         NaN                  NaN           NaN  \n",
       "153         NaN                  NaN           NaN  \n",
       "154         NaN                  NaN           NaN  \n",
       "155         NaN                  NaN           NaN  \n",
       "\n",
       "[156 rows x 5 columns]"
      ]
     },
     "execution_count": 13,
     "metadata": {},
     "output_type": "execute_result"
    }
   ],
   "source": [
    "df[0]"
   ]
  },
  {
   "cell_type": "code",
   "execution_count": 66,
   "metadata": {},
   "outputs": [],
   "source": [
    "all_files = glob.glob(\"data/raw/\" + \"*.ods\")\n",
    "all_odfs = [pd.read_excel(filename, header=3, engine=\"odf\") for filename in all_files]\n",
    "all_dates = [re.findall(r'(?:data/raw/prison-pop-)(.*)(?:.ods)', all_files[i])[0] for i in range(len(all_files)-1)]\n",
    "\n"
   ]
  },
  {
   "cell_type": "code",
   "execution_count": 67,
   "metadata": {},
   "outputs": [
    {
     "data": {
      "text/plain": [
       "['august-2023',\n",
       " 'february-2023',\n",
       " 'june-2023',\n",
       " 'july-2023',\n",
       " 'april-2023',\n",
       " 'january-2023',\n",
       " 'may-2023']"
      ]
     },
     "execution_count": 67,
     "metadata": {},
     "output_type": "execute_result"
    }
   ],
   "source": [
    "all_dates"
   ]
  },
  {
   "cell_type": "code",
   "execution_count": 27,
   "metadata": {},
   "outputs": [
    {
     "data": {
      "text/plain": [
       "['data/raw/prison-pop-august-2023.ods',\n",
       " 'data/raw/prison-pop-february-2023.ods',\n",
       " 'data/raw/prison-pop-june-2023.ods',\n",
       " 'data/raw/prison-pop-july-2023.ods',\n",
       " 'data/raw/prison-pop-april-2023.ods',\n",
       " 'data/raw/prison-pop-january-2023.ods',\n",
       " 'data/raw/prison-pop-may-2023.ods',\n",
       " 'data/raw/prison-population-march-2023.ods']"
      ]
     },
     "execution_count": 27,
     "metadata": {},
     "output_type": "execute_result"
    }
   ],
   "source": [
    "all_files"
   ]
  },
  {
   "cell_type": "code",
   "execution_count": 63,
   "metadata": {},
   "outputs": [
    {
     "data": {
      "text/plain": [
       "[]"
      ]
     },
     "execution_count": 63,
     "metadata": {},
     "output_type": "execute_result"
    }
   ],
   "source": [
    "date_text = re.findall(r'(?:data/raw/prison-pop-)(.*)(?:.ods)', all_files[-1])\n",
    "date_text"
   ]
  },
  {
   "cell_type": "code",
   "execution_count": null,
   "metadata": {},
   "outputs": [],
   "source": []
  }
 ],
 "metadata": {
  "kernelspec": {
   "display_name": "minimal_ds",
   "language": "python",
   "name": "python3"
  },
  "language_info": {
   "codemirror_mode": {
    "name": "ipython",
    "version": 3
   },
   "file_extension": ".py",
   "mimetype": "text/x-python",
   "name": "python",
   "nbconvert_exporter": "python",
   "pygments_lexer": "ipython3",
   "version": "3.11.5"
  },
  "orig_nbformat": 4
 },
 "nbformat": 4,
 "nbformat_minor": 2
}
