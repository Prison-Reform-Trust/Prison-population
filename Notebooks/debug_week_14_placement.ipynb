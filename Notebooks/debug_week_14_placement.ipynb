{
 "cells": [
  {
   "cell_type": "code",
   "execution_count": 1,
   "metadata": {},
   "outputs": [],
   "source": [
    "#!/usr/bin/env python3\n",
    "# -*- coding: utf-8 -*-\n",
    "\n",
    "##Imports \n",
    "\n",
    "#Libraries\n",
    "import os\n",
    "import plotly.graph_objs as go  # Offline plotting\n",
    "import chart_studio.plotly as py  # Online plotting\n",
    "import chart_studio\n",
    "import plotly.io as pio\n",
    "import pandas as pd\n",
    "import datetime\n",
    "import textwrap\n",
    "from dotenv import load_dotenv, find_dotenv\n",
    "\n",
    "#Local scripts\n",
    "import src.data.utilities as utils\n",
    "import src.visualization.prt_theme as prt_theme\n",
    "\n",
    "##Loading environment variables and config\n",
    "dotenv_path = find_dotenv()\n",
    "load_dotenv(dotenv_path)\n",
    "config = utils.read_config()\n",
    "\n",
    "##Adding plotly credentials\n",
    "chart_studio.tools.set_credentials_file(\n",
    "    username=os.getenv(\"PLOTLY_USERNAME\"), api_key=os.getenv(\"PLOTLY_API_KEY\")\n",
    ")\n",
    "\n",
    "##Setting template\n",
    "pio.templates.default = \"prt_template\"\n",
    "plotly_config = config['plotly']['config']"
   ]
  },
  {
   "cell_type": "code",
   "execution_count": null,
   "metadata": {},
   "outputs": [],
   "source": [
    "##Reading in data\n",
    "df = pd.read_csv(\n",
    "    f\"{config['data']['clnFilePath']}prison_population.csv\",\n",
    "    usecols=[\"date\", \"population\"],\n",
    "    parse_dates=[\"date\"],\n",
    ")\n",
    "\n",
    "##Filtering year range\n",
    "df_include = df.query('date.dt.year >= 2021 & date.dt.year <= 2024')"
   ]
  },
  {
   "cell_type": "code",
   "execution_count": null,
   "metadata": {},
   "outputs": [],
   "source": [
    "df_include"
   ]
  },
  {
   "cell_type": "code",
   "execution_count": null,
   "metadata": {},
   "outputs": [],
   "source": [
    "df_include.query('date.dt.year == 2021')"
   ]
  },
  {
   "cell_type": "code",
   "execution_count": null,
   "metadata": {},
   "outputs": [],
   "source": [
    "##Calculating xaxis_tickvals\n",
    "start = datetime.datetime(2021, 1, 1)\n",
    "end = datetime.datetime(2021, 12, 31)\n",
    "\n",
    "xtick_vals = pd.date_range(start, end)\n",
    "filt = xtick_vals.is_month_start\n",
    "\n",
    "month_weeks = xtick_vals[filt].isocalendar().week\n",
    "month_weeks.iloc[0] = 1  # preventing week 1 from starting at the end of previous year"
   ]
  },
  {
   "cell_type": "code",
   "execution_count": null,
   "metadata": {},
   "outputs": [],
   "source": [
    "month_weeks"
   ]
  },
  {
   "cell_type": "code",
   "execution_count": null,
   "metadata": {},
   "outputs": [],
   "source": [
    "##Calculating xaxis_tickvals\n",
    "start = datetime.datetime(2021, 1, 1)\n",
    "end = datetime.datetime(2021, 12, 31)\n",
    "\n",
    "xtick_vals = pd.date_range(start, end)"
   ]
  },
  {
   "cell_type": "code",
   "execution_count": null,
   "metadata": {},
   "outputs": [],
   "source": [
    "xtick_vals.isocalendar().week"
   ]
  },
  {
   "cell_type": "code",
   "execution_count": null,
   "metadata": {},
   "outputs": [],
   "source": [
    "## Chart title\n",
    "title = textwrap.wrap(\"<b>Prison population in England and Wales</b>\", width=65)\n",
    "\n",
    "##Plotting\n",
    "\n",
    "fig = go.Figure()\n",
    "\n",
    "trace_list = []\n",
    "for year in df_include[\"date\"].dt.year.unique():\n",
    "    df_year = df_include[df_include[\"date\"].dt.year == year]\n",
    "\n",
    "    trace = go.Scatter(\n",
    "        x=df_year[\"date\"].dt.strftime(\"Week %U\"),\n",
    "        y=df_year[\"population\"],\n",
    "        mode=\"lines\",\n",
    "        connectgaps=True,\n",
    "        hovertext=df[\"date\"].dt.strftime(\" \"),\n",
    "        hovertemplate=\"<b>%{hovertext}</b><br>\" + \"%{y:,.0f}\",\n",
    "        name=str(year),\n",
    "    )\n",
    "\n",
    "    trace_list.append(trace)\n",
    "\n",
    "fig.add_traces(trace_list)\n",
    "\n",
    "\n",
    "##Edit the layout\n",
    "\n",
    "fig.update_layout(\n",
    "    title=\"<br>\".join(title),\n",
    "    yaxis_dtick=2000,\n",
    "    xaxis_tickvals=month_weeks,\n",
    "    xaxis_ticktext=xtick_vals[filt].strftime(\"%b\"),\n",
    "    hovermode='x'\n",
    ")\n",
    "\n",
    "## Chart annotations\n",
    "annotations = []\n",
    "\n",
    "y_list = [0, 0, 0, 0, 0]\n",
    "\n",
    "# Adding trace annotations\n",
    "for i in range(0, len(trace_list)):\n",
    "    annotations.append(\n",
    "        dict(\n",
    "            xref=\"x\",\n",
    "            yref=\"y\",\n",
    "            x=trace_list[i].x[-1],\n",
    "            y=trace_list[i].y[-1] + y_list[i],\n",
    "            text=str(trace_list[i].name),\n",
    "            xanchor=\"left\",\n",
    "            align=\"left\",\n",
    "            showarrow=False,\n",
    "            font_color=fig.layout.template.layout.colorway[i],\n",
    "            font_size=10,\n",
    "        )\n",
    "    )\n",
    "\n",
    "# Adding source label\n",
    "annotations.append(\n",
    "    dict(\n",
    "        xref=\"paper\",\n",
    "        yref=\"paper\",\n",
    "        x=-0.08,\n",
    "        y=-0.19,\n",
    "        align=\"left\",\n",
    "        showarrow=False,\n",
    "        text=\"<b>Source: Ministry of Justice Prison Population Bulletin</b>\",\n",
    "        font_size=12,\n",
    "    )\n",
    ")\n",
    "\n",
    "# Adding y-axis label\n",
    "annotations.append(\n",
    "    dict(\n",
    "        xref=\"x\",\n",
    "        yref=\"paper\",\n",
    "        x=\"Week 00\",\n",
    "        y=1.04,\n",
    "        align=\"left\",\n",
    "        xanchor=\"left\",\n",
    "        showarrow=False,\n",
    "        text=\"People in prison\",\n",
    "        font_size=12,\n",
    "    )\n",
    ")\n",
    "\n",
    "# Adding annotations to layout\n",
    "fig.update_layout(annotations=annotations)\n",
    "\n",
    "fig.update_yaxes(range=[75900, 90100], nticks=6)\n",
    "fig.update_xaxes(range=[-1, 52])\n",
    "\n",
    "##Plot file offline\n",
    "fig.show(config=plotly_config, renderer='browser')\n"
   ]
  },
  {
   "cell_type": "code",
   "execution_count": null,
   "metadata": {},
   "outputs": [],
   "source": [
    "##Calculating xaxis_tickvals\n",
    "start = datetime.datetime(2021, 1, 1)\n",
    "end = datetime.datetime(2021, 12, 31)\n",
    "\n",
    "xtick_vals = pd.date_range(start, end)\n",
    "filt = xtick_vals.is_month_start\n",
    "\n",
    "month_weeks = xtick_vals[filt].isocalendar().week"
   ]
  },
  {
   "cell_type": "code",
   "execution_count": null,
   "metadata": {},
   "outputs": [],
   "source": [
    "xtick_vals"
   ]
  },
  {
   "cell_type": "code",
   "execution_count": null,
   "metadata": {},
   "outputs": [],
   "source": [
    "filt"
   ]
  },
  {
   "cell_type": "code",
   "execution_count": null,
   "metadata": {},
   "outputs": [],
   "source": [
    "month_weeks"
   ]
  },
  {
   "cell_type": "code",
   "execution_count": null,
   "metadata": {},
   "outputs": [],
   "source": [
    "df"
   ]
  },
  {
   "cell_type": "code",
   "execution_count": null,
   "metadata": {},
   "outputs": [],
   "source": [
    "df['week'] = df[\"date\"].dt.strftime(\"Week %U\")"
   ]
  },
  {
   "cell_type": "code",
   "execution_count": null,
   "metadata": {},
   "outputs": [],
   "source": [
    "df"
   ]
  },
  {
   "cell_type": "code",
   "execution_count": null,
   "metadata": {},
   "outputs": [],
   "source": [
    "df.groupby(by=df['date'].dt.year).count()"
   ]
  },
  {
   "cell_type": "markdown",
   "metadata": {},
   "source": [
    "So it appears as though there are only 50 weekly observations in 2020, which could be why there is an issue with the display of some of the other years"
   ]
  },
  {
   "cell_type": "code",
   "execution_count": null,
   "metadata": {},
   "outputs": [],
   "source": [
    "for idx in range(len(trace_list)):\n",
    "    print(trace_list[idx].name, trace_list[idx].x)"
   ]
  },
  {
   "cell_type": "markdown",
   "metadata": {},
   "source": [
    "Looking at these returned values Week 14 is missing from 2020, but present in 2021 and 2022, which appears to be confusing the placement.\n",
    "If I adjust the start year to 2021 it plots the data correctly. I may need to add a value for each week of the year in a separate column and use that to set the placement of the values."
   ]
  },
  {
   "cell_type": "markdown",
   "metadata": {},
   "source": [
    "There is also some weirdness with week 00 for the 2024 data as well which will need adjusting."
   ]
  },
  {
   "cell_type": "code",
   "execution_count": null,
   "metadata": {},
   "outputs": [],
   "source": [
    "trace_list[-1]"
   ]
  },
  {
   "cell_type": "code",
   "execution_count": null,
   "metadata": {},
   "outputs": [],
   "source": [
    "df_include.query('date.dt.year == 2024')"
   ]
  },
  {
   "cell_type": "code",
   "execution_count": null,
   "metadata": {},
   "outputs": [],
   "source": [
    "mask = df_include['date'].dt.year == 2024\n",
    "df_include.loc[mask, 'date'].dt.strftime(\"Week %U\")"
   ]
  },
  {
   "cell_type": "markdown",
   "metadata": {},
   "source": [
    "Having looked up the `strftime` codes it appears as though `%U` uses Sunday as the first day of the week. Let's see whether adjusting this makes a difference for the outcome for 2024, and then the earlier years in the timeseries."
   ]
  },
  {
   "cell_type": "code",
   "execution_count": null,
   "metadata": {},
   "outputs": [],
   "source": [
    "mask = df_include['date'].dt.year == 2024\n",
    "df_include.loc[mask, 'date'].dt.strftime(\"Week %W\")"
   ]
  },
  {
   "cell_type": "code",
   "execution_count": null,
   "metadata": {},
   "outputs": [],
   "source": [
    "mask = df_include['date'].dt.year >= 2019\n",
    "df_include.loc[mask, 'date'].dt.strftime(\"Week %W\").value_counts()"
   ]
  },
  {
   "cell_type": "code",
   "execution_count": null,
   "metadata": {},
   "outputs": [],
   "source": [
    "## Chart title\n",
    "title = textwrap.wrap(\"<b>Prison population in England and Wales</b>\", width=65)\n",
    "\n",
    "##Plotting\n",
    "\n",
    "fig = go.Figure()\n",
    "\n",
    "trace_list = []\n",
    "for year in df_include[\"date\"].dt.year.unique():\n",
    "    df_year = df_include[df_include[\"date\"].dt.year == year]\n",
    "\n",
    "    trace = go.Scatter(\n",
    "        x=df_year[\"date\"].dt.strftime(\"Week %W\"),\n",
    "        y=df_year[\"population\"],\n",
    "        mode=\"lines\",\n",
    "        connectgaps=True,\n",
    "        hovertext=df[\"date\"].dt.strftime(\" \"),\n",
    "        hovertemplate=\"<b>%{hovertext}</b><br>\" + \"%{y:,.0f}\",\n",
    "        name=str(year),\n",
    "    )\n",
    "\n",
    "    trace_list.append(trace)\n",
    "\n",
    "fig.add_traces(trace_list)\n",
    "\n",
    "\n",
    "##Edit the layout\n",
    "\n",
    "fig.update_layout(\n",
    "    title=\"<br>\".join(title),\n",
    "    yaxis_dtick=2000,\n",
    "    xaxis_tickvals=month_weeks,\n",
    "    xaxis_ticktext=xtick_vals[filt].strftime(\"%b\"),\n",
    "    hovermode='x'\n",
    ")\n",
    "\n",
    "## Chart annotations\n",
    "annotations = []\n",
    "\n",
    "y_list = [0, 0, 0, 0, 0]\n",
    "\n",
    "# Adding trace annotations\n",
    "for i in range(0, len(trace_list)):\n",
    "    annotations.append(\n",
    "        dict(\n",
    "            xref=\"x\",\n",
    "            yref=\"y\",\n",
    "            x=trace_list[i].x[-1],\n",
    "            y=trace_list[i].y[-1] + y_list[i],\n",
    "            text=str(trace_list[i].name),\n",
    "            xanchor=\"left\",\n",
    "            align=\"left\",\n",
    "            showarrow=False,\n",
    "            font_color=fig.layout.template.layout.colorway[i],\n",
    "            font_size=10,\n",
    "        )\n",
    "    )\n",
    "\n",
    "# Adding source label\n",
    "annotations.append(\n",
    "    dict(\n",
    "        xref=\"paper\",\n",
    "        yref=\"paper\",\n",
    "        x=-0.08,\n",
    "        y=-0.19,\n",
    "        align=\"left\",\n",
    "        showarrow=False,\n",
    "        text=\"<b>Source: Ministry of Justice Prison Population Bulletin</b>\",\n",
    "        font_size=12,\n",
    "    )\n",
    ")\n",
    "\n",
    "# Adding y-axis label\n",
    "annotations.append(\n",
    "    dict(\n",
    "        xref=\"x\",\n",
    "        yref=\"paper\",\n",
    "        x=\"Week 01\",\n",
    "        y=1.04,\n",
    "        align=\"left\",\n",
    "        xanchor=\"left\",\n",
    "        showarrow=False,\n",
    "        text=\"People in prison\",\n",
    "        font_size=12,\n",
    "    )\n",
    ")\n",
    "\n",
    "# Adding annotations to layout\n",
    "fig.update_layout(annotations=annotations)\n",
    "\n",
    "fig.update_yaxes(range=[75900, 90100], nticks=6)\n",
    "fig.update_xaxes(range=[-1, 52])\n",
    "\n",
    "##Plot file offline\n",
    "fig.show(config=plotly_config, renderer='browser')\n"
   ]
  },
  {
   "cell_type": "markdown",
   "metadata": {},
   "source": [
    "That seems to have fixed the issue for 2024 at least. Let's reset the filter and run the code again."
   ]
  },
  {
   "cell_type": "code",
   "execution_count": null,
   "metadata": {},
   "outputs": [],
   "source": [
    "##Filtering year range\n",
    "df_include = df.query('date.dt.year >= 2020 & date.dt.year <= 2024')"
   ]
  },
  {
   "cell_type": "markdown",
   "metadata": {},
   "source": [
    "Still the same issue for the other years, so that's the next issue to resolve."
   ]
  },
  {
   "cell_type": "code",
   "execution_count": null,
   "metadata": {},
   "outputs": [],
   "source": [
    "df_include.groupby(by=df_include['date'].dt.year).count()"
   ]
  },
  {
   "cell_type": "code",
   "execution_count": null,
   "metadata": {},
   "outputs": [],
   "source": [
    "df_include.query('date.dt.year == 2021')"
   ]
  },
  {
   "cell_type": "code",
   "execution_count": null,
   "metadata": {},
   "outputs": [],
   "source": [
    "##Calculating xaxis_tickvals\n",
    "start = datetime.datetime(2021, 1, 1)\n",
    "end = datetime.datetime(2021, 12, 31)\n",
    "\n",
    "xtick_vals = pd.date_range(start, end)\n",
    "filt = xtick_vals.is_month_start\n",
    "\n",
    "month_weeks = xtick_vals[filt].isocalendar().week"
   ]
  },
  {
   "cell_type": "code",
   "execution_count": null,
   "metadata": {},
   "outputs": [],
   "source": [
    "month_weeks"
   ]
  },
  {
   "cell_type": "code",
   "execution_count": null,
   "metadata": {},
   "outputs": [],
   "source": [
    "##Calculating xaxis_tickvals\n",
    "start = datetime.datetime(2018, 1, 1)\n",
    "end = datetime.datetime(2018, 12, 31)\n",
    "\n",
    "xtick_vals = pd.date_range(start, end)"
   ]
  },
  {
   "cell_type": "code",
   "execution_count": null,
   "metadata": {},
   "outputs": [],
   "source": [
    "xtick_vals.isocalendar().week"
   ]
  },
  {
   "cell_type": "code",
   "execution_count": null,
   "metadata": {},
   "outputs": [],
   "source": [
    "filt = xtick_vals.is_month_start\n",
    "\n",
    "month_weeks = xtick_vals[filt].isocalendar().week"
   ]
  },
  {
   "cell_type": "markdown",
   "metadata": {},
   "source": [
    "I'm starting to think that the issue is that I'm using a string to set the x value, rather than a datetime object, let's try replacing my x values with `.isocalendar().week` values instead"
   ]
  },
  {
   "cell_type": "code",
   "execution_count": null,
   "metadata": {},
   "outputs": [],
   "source": [
    "## Chart title\n",
    "title = textwrap.wrap(\"<b>Prison population in England and Wales</b>\", width=65)\n",
    "\n",
    "##Plotting\n",
    "\n",
    "fig = go.Figure()\n",
    "\n",
    "trace_list = []\n",
    "for year in df_include[\"date\"].dt.year.unique():\n",
    "    df_year = df_include[df_include[\"date\"].dt.year == year]\n",
    "\n",
    "    trace = go.Scatter(\n",
    "        x=df_year[\"date\"].dt.isocalendar().week,\n",
    "        y=df_year[\"population\"],\n",
    "        mode=\"lines\",\n",
    "        connectgaps=True,\n",
    "        hovertext=df_year[\"date\"].dt.strftime(\"%d %b\"),\n",
    "        hovertemplate=\"<b>%{hovertext}</b><br>\" + \"%{y:,.0f}\",\n",
    "        name=str(year),\n",
    "    )\n",
    "\n",
    "    trace_list.append(trace)\n",
    "\n",
    "fig.add_traces(trace_list)\n",
    "\n",
    "\n",
    "##Edit the layout\n",
    "\n",
    "fig.update_layout(\n",
    "    margin={'pad': 10},\n",
    "    title=\"<br>\".join(title),\n",
    "    yaxis_dtick=2000,\n",
    "    xaxis_tickvals=month_weeks,\n",
    "    xaxis_ticktext=xtick_vals[filt].strftime(\"%b\"),\n",
    "    hovermode='x'\n",
    ")\n",
    "\n",
    "## Chart annotations\n",
    "annotations = []\n",
    "\n",
    "y_list = [0, 0, 0, 0, 0]\n",
    "\n",
    "# Adding trace annotations\n",
    "for i in range(0, len(trace_list)):\n",
    "    annotations.append(\n",
    "        dict(\n",
    "            xref=\"x\",\n",
    "            yref=\"y\",\n",
    "            x=trace_list[i].x[-1],\n",
    "            y=trace_list[i].y[-1] + y_list[i],\n",
    "            text=str(trace_list[i].name),\n",
    "            xanchor=\"left\",\n",
    "            align=\"left\",\n",
    "            showarrow=False,\n",
    "            font_color=fig.layout.template.layout.colorway[i],\n",
    "            font_size=10,\n",
    "        )\n",
    "    )\n",
    "\n",
    "# Adding source label\n",
    "annotations.append(\n",
    "    dict(\n",
    "        xref=\"paper\",\n",
    "        yref=\"paper\",\n",
    "        x=-0.08,\n",
    "        y=-0.19,\n",
    "        align=\"left\",\n",
    "        showarrow=False,\n",
    "        text=\"<b>Source: Ministry of Justice Prison Population Bulletin</b>\",\n",
    "        font_size=12,\n",
    "    )\n",
    ")\n",
    "\n",
    "# Adding y-axis label\n",
    "annotations.append(\n",
    "    dict(\n",
    "        xref=\"x\",\n",
    "        yref=\"paper\",\n",
    "        x=1,\n",
    "        y=1.04,\n",
    "        align=\"left\",\n",
    "        xanchor=\"left\",\n",
    "        showarrow=False,\n",
    "        text=\"People in prison\",\n",
    "        font_size=12,\n",
    "    )\n",
    ")\n",
    "\n",
    "# Adding annotations to layout\n",
    "fig.update_layout(annotations=annotations)\n",
    "\n",
    "fig.update_yaxes(range=[75900, 90100], nticks=6)\n",
    "fig.update_xaxes(range=[1, 52])\n",
    "\n",
    "##Plot file offline\n",
    "fig.show(config=plotly_config, renderer='browser')\n"
   ]
  },
  {
   "cell_type": "markdown",
   "metadata": {},
   "source": [
    "Okay, that seems to have been the issue. I've also made some small adjustments to the hovertext to include the day and month."
   ]
  },
  {
   "cell_type": "markdown",
   "metadata": {},
   "source": [
    "# CODE CONSOLIDATION"
   ]
  },
  {
   "cell_type": "code",
   "execution_count": 2,
   "metadata": {},
   "outputs": [],
   "source": [
    "##Reading in data\n",
    "df = pd.read_csv(\n",
    "    f\"{config['data']['clnFilePath']}prison_population.csv\",\n",
    "    usecols=[\"date\", \"population\"],\n",
    "    parse_dates=[\"date\"],\n",
    ")\n",
    "\n",
    "##Filtering year range\n",
    "df_include = df.query('date.dt.year >= 2020 & date.dt.year <= 2024')"
   ]
  },
  {
   "cell_type": "code",
   "execution_count": 7,
   "metadata": {},
   "outputs": [],
   "source": [
    "##Calculating xaxis_tickvals\n",
    "start = datetime.datetime(2018, 1, 1)\n",
    "end = datetime.datetime(2018, 12, 31)\n",
    "\n",
    "xtick_vals = pd.date_range(start, end)\n",
    "filt = xtick_vals.is_month_start\n",
    "\n",
    "month_weeks = xtick_vals[filt].isocalendar().week"
   ]
  },
  {
   "cell_type": "code",
   "execution_count": 8,
   "metadata": {},
   "outputs": [],
   "source": [
    "## Chart title\n",
    "title = textwrap.wrap(\"<b>Prison population in England and Wales</b>\", width=65)\n",
    "\n",
    "##Plotting\n",
    "\n",
    "fig = go.Figure()\n",
    "\n",
    "trace_list = []\n",
    "for year in df_include[\"date\"].dt.year.unique():\n",
    "    df_year = df_include[df_include[\"date\"].dt.year == year]\n",
    "\n",
    "    trace = go.Scatter(\n",
    "        x=df_year[\"date\"].dt.isocalendar().week,\n",
    "        y=df_year[\"population\"],\n",
    "        mode=\"lines\",\n",
    "        connectgaps=True,\n",
    "        hovertext=df_year[\"date\"].dt.strftime(\"%d %b\"),\n",
    "        hovertemplate=\"<b>%{hovertext}</b><br>\" + \"%{y:,.0f}\",\n",
    "        name=str(year),\n",
    "    )\n",
    "\n",
    "    trace_list.append(trace)\n",
    "\n",
    "fig.add_traces(trace_list)\n",
    "\n",
    "\n",
    "##Edit the layout\n",
    "\n",
    "fig.update_layout(\n",
    "    margin={'pad': 10},\n",
    "    title=\"<br>\".join(title),\n",
    "    yaxis_dtick=2000,\n",
    "    xaxis_tickvals=month_weeks,\n",
    "    xaxis_ticktext=xtick_vals[filt].strftime(\"%b\"),\n",
    "    hovermode='x'\n",
    ")\n",
    "\n",
    "## Chart annotations\n",
    "annotations = []\n",
    "\n",
    "y_list = [0, 0, 0, 0, 0]\n",
    "\n",
    "# Adding trace annotations\n",
    "for i in range(0, len(trace_list)):\n",
    "    annotations.append(\n",
    "        dict(\n",
    "            xref=\"x\",\n",
    "            yref=\"y\",\n",
    "            x=trace_list[i].x[-1],\n",
    "            y=trace_list[i].y[-1] + y_list[i],\n",
    "            text=str(trace_list[i].name),\n",
    "            xanchor=\"left\",\n",
    "            align=\"left\",\n",
    "            showarrow=False,\n",
    "            font_color=fig.layout.template.layout.colorway[i],\n",
    "            font_size=10,\n",
    "        )\n",
    "    )\n",
    "\n",
    "# Adding source label\n",
    "annotations.append(\n",
    "    dict(\n",
    "        xref=\"paper\",\n",
    "        yref=\"paper\",\n",
    "        x=-0.08,\n",
    "        y=-0.19,\n",
    "        align=\"left\",\n",
    "        showarrow=False,\n",
    "        text=\"<b>Source: Ministry of Justice Prison Population Bulletin</b>\",\n",
    "        font_size=12,\n",
    "    )\n",
    ")\n",
    "\n",
    "# Adding y-axis label\n",
    "annotations.append(\n",
    "    dict(\n",
    "        xref=\"x\",\n",
    "        yref=\"paper\",\n",
    "        x=1,\n",
    "        y=1.04,\n",
    "        align=\"left\",\n",
    "        xanchor=\"left\",\n",
    "        showarrow=False,\n",
    "        text=\"People in prison\",\n",
    "        font_size=12,\n",
    "    )\n",
    ")\n",
    "\n",
    "# Adding annotations to layout\n",
    "fig.update_layout(annotations=annotations)\n",
    "\n",
    "fig.update_yaxes(range=[75900, 90100], nticks=6)\n",
    "fig.update_xaxes(range=[1, 52])\n",
    "\n",
    "##Plot file offline\n",
    "fig.show(config=plotly_config, renderer='browser')\n"
   ]
  },
  {
   "cell_type": "code",
   "execution_count": null,
   "metadata": {},
   "outputs": [],
   "source": []
  }
 ],
 "metadata": {
  "kernelspec": {
   "display_name": "prison_population",
   "language": "python",
   "name": "python3"
  },
  "language_info": {
   "codemirror_mode": {
    "name": "ipython",
    "version": 3
   },
   "file_extension": ".py",
   "mimetype": "text/x-python",
   "name": "python",
   "nbconvert_exporter": "python",
   "pygments_lexer": "ipython3",
   "version": "3.11.5"
  }
 },
 "nbformat": 4,
 "nbformat_minor": 2
}
