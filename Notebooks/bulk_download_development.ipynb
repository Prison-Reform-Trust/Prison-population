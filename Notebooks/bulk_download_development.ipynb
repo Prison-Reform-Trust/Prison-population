{
 "cells": [
  {
   "cell_type": "code",
   "execution_count": 2,
   "metadata": {},
   "outputs": [],
   "source": [
    "from bs4 import BeautifulSoup\n",
    "import requests\n",
    "from requests import get\n",
    "from pathlib import Path\n",
    "\n",
    "import src.data.utilities as utils\n",
    "config = utils.read_config()"
   ]
  },
  {
   "cell_type": "code",
   "execution_count": 12,
   "metadata": {},
   "outputs": [],
   "source": [
    "page = requests.get(input('Enter URL: '))\n",
    "filetype = '.' + input('Enter File Extension (with no dot): ')\n",
    "title = input('Enter identifying title characteristic: ')\n",
    "soup = BeautifulSoup(page.text, 'html.parser')\n",
    "\n",
    "url_list = []\n",
    "\n",
    "for link in soup.find_all('a'):\n",
    "    link_title = link.text\n",
    "    url = link.get('href')\n",
    "    if title in link_title:\n",
    "        url_list.append(url)\n",
    "        path = config['data']['rawFilePath']\n",
    "        filename = url.rsplit('/', 1)[1].lower()\n",
    "        filepath = Path.joinpath(Path.cwd(), path, filename)\n",
    "        with open(filepath, 'wb') as file:\n",
    "            response = get(url)\n",
    "            file.write(response.content)\n",
    "    else:\n",
    "        continue"
   ]
  },
  {
   "cell_type": "code",
   "execution_count": 7,
   "metadata": {},
   "outputs": [
    {
     "data": {
      "text/plain": [
       "['https://assets.publishing.service.gov.uk/government/uploads/system/uploads/attachment_data/file/1183278/prison-pop-august-2023.ODS',\n",
       " 'https://assets.publishing.service.gov.uk/government/uploads/system/uploads/attachment_data/file/1177763/prison-pop-july-2023.ODS',\n",
       " 'https://assets.publishing.service.gov.uk/government/uploads/system/uploads/attachment_data/file/1170505/prison-pop-june-2023.ods',\n",
       " 'https://assets.publishing.service.gov.uk/government/uploads/system/uploads/attachment_data/file/1161937/prison-pop-may-2023.ODS',\n",
       " 'https://assets.publishing.service.gov.uk/government/uploads/system/uploads/attachment_data/file/1156108/prison-pop-april-2023.ods',\n",
       " 'https://assets.publishing.service.gov.uk/government/uploads/system/uploads/attachment_data/file/1150261/prison-population-march-2023.ODS',\n",
       " 'https://assets.publishing.service.gov.uk/government/uploads/system/uploads/attachment_data/file/1141578/prison-pop-february-2023.ods',\n",
       " 'https://assets.publishing.service.gov.uk/government/uploads/system/uploads/attachment_data/file/1135730/prison-pop-january-2023.ODS']"
      ]
     },
     "execution_count": 7,
     "metadata": {},
     "output_type": "execute_result"
    }
   ],
   "source": [
    "url_list"
   ]
  },
  {
   "cell_type": "code",
   "execution_count": 8,
   "metadata": {},
   "outputs": [
    {
     "name": "stdout",
     "output_type": "stream",
     "text": [
      "prison-pop-august-2023.ods\n",
      "prison-pop-july-2023.ods\n",
      "prison-pop-june-2023.ods\n",
      "prison-pop-may-2023.ods\n",
      "prison-pop-april-2023.ods\n",
      "prison-population-march-2023.ods\n",
      "prison-pop-february-2023.ods\n",
      "prison-pop-january-2023.ods\n"
     ]
    }
   ],
   "source": [
    "for url in url_list:\n",
    "    (url.rsplit('/', 1)[1].lower())"
   ]
  }
 ],
 "metadata": {
  "kernelspec": {
   "display_name": "minimal_ds",
   "language": "python",
   "name": "python3"
  },
  "language_info": {
   "codemirror_mode": {
    "name": "ipython",
    "version": 3
   },
   "file_extension": ".py",
   "mimetype": "text/x-python",
   "name": "python",
   "nbconvert_exporter": "python",
   "pygments_lexer": "ipython3",
   "version": "3.11.0"
  },
  "orig_nbformat": 4
 },
 "nbformat": 4,
 "nbformat_minor": 2
}
